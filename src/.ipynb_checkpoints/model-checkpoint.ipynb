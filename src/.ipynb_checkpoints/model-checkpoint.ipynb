{
 "cells": [
  {
   "cell_type": "code",
   "execution_count": 1,
   "id": "2e97f62e",
   "metadata": {},
   "outputs": [],
   "source": [
    "import matplotlib.pyplot as plt\n",
    "import tensorflow as tf\n",
    "from numpy import argmax\n",
    "from tensorflow import keras\n",
    "from tensorflow.keras import layers\n",
    "from tensorflow.keras.layers import Activation, Convolution2D, Dense, Dropout, Flatten, MaxPooling2D\n",
    "from tensorflow.keras.models import Sequential\n",
    "import cv2 as cv\n",
    "import numpy as np\n",
    "import os\n",
    "from tqdm import tqdm\n",
    "import random\n",
    "from tensorflow.keras.callbacks import TensorBoard"
   ]
  },
  {
   "cell_type": "code",
   "execution_count": 13,
   "id": "7fbb96e4",
   "metadata": {
    "scrolled": true
   },
   "outputs": [
    {
     "name": "stderr",
     "output_type": "stream",
     "text": [
      "100%|██████████████████████████████████████████████████████████████████| 1000/1000 [00:00<00:00, 12736.68it/s]\n",
      "100%|██████████████████████████████████████████████████████████████████| 1000/1000 [00:00<00:00, 13193.58it/s]\n",
      "100%|██████████████████████████████████████████████████████████████████| 1000/1000 [00:00<00:00, 13274.04it/s]\n",
      "100%|██████████████████████████████████████████████████████████████████| 1000/1000 [00:00<00:00, 12864.98it/s]\n",
      "100%|██████████████████████████████████████████████████████████████████| 1000/1000 [00:00<00:00, 13000.23it/s]\n",
      "100%|██████████████████████████████████████████████████████████████████| 1000/1000 [00:00<00:00, 12936.72it/s]\n",
      "100%|██████████████████████████████████████████████████████████████████| 1000/1000 [00:00<00:00, 12513.85it/s]\n",
      "100%|██████████████████████████████████████████████████████████████████| 1000/1000 [00:00<00:00, 12883.07it/s]\n",
      "100%|██████████████████████████████████████████████████████████████████| 1000/1000 [00:00<00:00, 12342.11it/s]\n",
      "100%|██████████████████████████████████████████████████████████████████| 1000/1000 [00:00<00:00, 12484.27it/s]"
     ]
    },
    {
     "name": "stdout",
     "output_type": "stream",
     "text": [
      "10000\n"
     ]
    },
    {
     "name": "stderr",
     "output_type": "stream",
     "text": [
      "\n"
     ]
    }
   ],
   "source": [
    "CATEGORIES = [\"0\", \"1\", \"2\", \"3\", \"4\", \"5\", \"6\", \"7\", \"8\", \"9\"]\n",
    "train_ds = []\n",
    "\n",
    "IMG_SIZE = 128\n",
    "batch_size = 50\n",
    "\n",
    "def create_training_data():\n",
    "    DATADIR = \"/home/karol/python_projekty/cv2/sudoku/data/train\"\n",
    "    for category in CATEGORIES:\n",
    "        path = os.path.join(DATADIR, category)\n",
    "        class_num = CATEGORIES.index(category)\n",
    "        for img in tqdm(os.listdir(path)):\n",
    "            img_array = cv.imread(os.path.join(path,img))\n",
    "            gray = cv.cvtColor(img_array,cv.COLOR_RGB2GRAY)\n",
    "            ret,thresh = cv.threshold(gray,127,255,cv.THRESH_BINARY_INV)\n",
    "            train_ds.append([thresh, class_num])\n",
    "\n",
    "create_training_data()\n",
    "print(len(train_ds))"
   ]
  },
  {
   "cell_type": "code",
   "execution_count": 14,
   "id": "888433e1",
   "metadata": {
    "scrolled": true
   },
   "outputs": [],
   "source": [
    "random.shuffle(train_ds)"
   ]
  },
  {
   "cell_type": "code",
   "execution_count": 15,
   "id": "e4423644",
   "metadata": {},
   "outputs": [
    {
     "name": "stdout",
     "output_type": "stream",
     "text": [
      "[[[[0]\n",
      "   [0]\n",
      "   [0]\n",
      "   ...\n",
      "   [0]\n",
      "   [0]\n",
      "   [0]]\n",
      "\n",
      "  [[0]\n",
      "   [0]\n",
      "   [0]\n",
      "   ...\n",
      "   [0]\n",
      "   [0]\n",
      "   [0]]\n",
      "\n",
      "  [[0]\n",
      "   [0]\n",
      "   [0]\n",
      "   ...\n",
      "   [0]\n",
      "   [0]\n",
      "   [0]]\n",
      "\n",
      "  ...\n",
      "\n",
      "  [[0]\n",
      "   [0]\n",
      "   [0]\n",
      "   ...\n",
      "   [0]\n",
      "   [0]\n",
      "   [0]]\n",
      "\n",
      "  [[0]\n",
      "   [0]\n",
      "   [0]\n",
      "   ...\n",
      "   [0]\n",
      "   [0]\n",
      "   [0]]\n",
      "\n",
      "  [[0]\n",
      "   [0]\n",
      "   [0]\n",
      "   ...\n",
      "   [0]\n",
      "   [0]\n",
      "   [0]]]]\n"
     ]
    }
   ],
   "source": [
    "X = []\n",
    "y = []\n",
    "\n",
    "for features,label in train_ds:\n",
    "    X.append(features)\n",
    "    y.append(label)\n",
    "\n",
    "print(X[0].reshape(-1, IMG_SIZE, IMG_SIZE, 1))\n",
    "\n",
    "X = np.array(X).reshape(-1, IMG_SIZE, IMG_SIZE, 1)"
   ]
  },
  {
   "cell_type": "code",
   "execution_count": 16,
   "id": "5a15db17",
   "metadata": {},
   "outputs": [
    {
     "ename": "AttributeError",
     "evalue": "'list' object has no attribute 'RandomRotation'",
     "output_type": "error",
     "traceback": [
      "\u001b[0;31m---------------------------------------------------------------------------\u001b[0m",
      "\u001b[0;31mAttributeError\u001b[0m                            Traceback (most recent call last)",
      "Input \u001b[0;32mIn [16]\u001b[0m, in \u001b[0;36m<module>\u001b[0;34m\u001b[0m\n\u001b[1;32m      1\u001b[0m data_augmentation \u001b[38;5;241m=\u001b[39m keras\u001b[38;5;241m.\u001b[39mSequential(\n\u001b[1;32m      2\u001b[0m     [\n\u001b[0;32m----> 3\u001b[0m         \u001b[43mlayers\u001b[49m\u001b[38;5;241;43m.\u001b[39;49m\u001b[43mRandomRotation\u001b[49m(\u001b[38;5;241m0.08\u001b[39m),\n\u001b[1;32m      4\u001b[0m     ]\n\u001b[1;32m      5\u001b[0m )\n",
      "\u001b[0;31mAttributeError\u001b[0m: 'list' object has no attribute 'RandomRotation'"
     ]
    }
   ],
   "source": [
    "data_augmentation = keras.Sequential(\n",
    "    [\n",
    "        layers.RandomRotation(0.08),\n",
    "    ]\n",
    ")"
   ]
  },
  {
   "cell_type": "code",
   "execution_count": 17,
   "id": "7f39dfae",
   "metadata": {},
   "outputs": [],
   "source": [
    "X = X/255.0"
   ]
  },
  {
   "cell_type": "code",
   "execution_count": 21,
   "id": "f4012076",
   "metadata": {},
   "outputs": [
    {
     "data": {
      "text/plain": [
       "(128, 128, 1)"
      ]
     },
     "execution_count": 21,
     "metadata": {},
     "output_type": "execute_result"
    }
   ],
   "source": [
    "X.shape[1:]"
   ]
  },
  {
   "cell_type": "code",
   "execution_count": 18,
   "id": "75d9c126",
   "metadata": {},
   "outputs": [],
   "source": [
    "layers = \\\n",
    "  [ Convolution2D(128, 3, 3, input_shape=X.shape[1:], activation='relu')\n",
    "   , MaxPooling2D(pool_size=(2, 2))\n",
    "   , Convolution2D(64, 2, 1, activation='relu')\n",
    "   , MaxPooling2D(pool_size=(2, 2))\n",
    "   , Convolution2D(32, 2, 1, activation='relu')\n",
    "   , MaxPooling2D(pool_size=(2, 2))\n",
    "   , Flatten()\n",
    "   , Dense(1024, activation='relu')\n",
    "   , Dropout(0.5)\n",
    "   , Dense(512, activation='relu')\n",
    "   , Dropout(0.5)\n",
    "   , Dense(10)\n",
    "   , Activation('sigmoid')\n",
    "  ]\n",
    "\n",
    "model = Sequential()\n",
    "for layer in layers:\n",
    "    model.add(layer)"
   ]
  },
  {
   "cell_type": "code",
   "execution_count": 19,
   "id": "bc8c7479",
   "metadata": {
    "scrolled": true
   },
   "outputs": [
    {
     "name": "stdout",
     "output_type": "stream",
     "text": [
      "Epoch 1/10\n",
      "313/313 [==============================] - 12s 37ms/step - loss: 0.3614 - accuracy: 0.8825\n",
      "Epoch 2/10\n",
      "313/313 [==============================] - 12s 37ms/step - loss: 0.0738 - accuracy: 0.9766\n",
      "Epoch 3/10\n",
      "313/313 [==============================] - 11s 36ms/step - loss: 0.0397 - accuracy: 0.9887\n",
      "Epoch 4/10\n",
      "313/313 [==============================] - 12s 37ms/step - loss: 0.0343 - accuracy: 0.9892\n",
      "Epoch 5/10\n",
      "313/313 [==============================] - 11s 37ms/step - loss: 0.0270 - accuracy: 0.9919\n",
      "Epoch 6/10\n",
      "313/313 [==============================] - 12s 37ms/step - loss: 0.0212 - accuracy: 0.9929\n",
      "Epoch 7/10\n",
      "313/313 [==============================] - 11s 36ms/step - loss: 0.0160 - accuracy: 0.9958\n",
      "Epoch 8/10\n",
      "313/313 [==============================] - 12s 37ms/step - loss: 0.0179 - accuracy: 0.9944\n",
      "Epoch 9/10\n",
      "313/313 [==============================] - 12s 37ms/step - loss: 0.0163 - accuracy: 0.9941\n",
      "Epoch 10/10\n",
      "313/313 [==============================] - 12s 37ms/step - loss: 0.0158 - accuracy: 0.9944\n"
     ]
    },
    {
     "data": {
      "text/plain": [
       "<keras.callbacks.History at 0x7f62743cbe80>"
      ]
     },
     "execution_count": 19,
     "metadata": {},
     "output_type": "execute_result"
    }
   ],
   "source": [
    "callbacks = [\n",
    "    keras.callbacks.ModelCheckpoint(\"/home/karol/python_projekty/cv2/sudoku/models/save_at_{epoch}.h5\"),\n",
    "]\n",
    "model.compile(loss='sparse_categorical_crossentropy', \n",
    "              optimizer='adam', \n",
    "              metrics=['accuracy'])\n",
    "model.fit(np.array(X), np.array(y), batch_size=32, epochs=10)"
   ]
  },
  {
   "cell_type": "code",
   "execution_count": null,
   "id": "ac364758",
   "metadata": {
    "scrolled": true
   },
   "outputs": [],
   "source": [
    "img = keras.preprocessing.image.load_img(\n",
    "    \"/home/karol/python_projekty/cv2/sudoku/data/train/2/img003-00005.png\", target_size=(128,128)\n",
    ")\n",
    "img_array = keras.preprocessing.image.img_to_array(img)\n",
    "img_array = tf.expand_dims(img_array, 0)  # Create batch axis\n",
    "\n",
    "predictions = model.predict(img_array)\n",
    "print(argmax(predictions))"
   ]
  },
  {
   "cell_type": "code",
   "execution_count": null,
   "id": "9a8745ff",
   "metadata": {},
   "outputs": [],
   "source": []
  },
  {
   "cell_type": "code",
   "execution_count": null,
   "id": "05019df7",
   "metadata": {},
   "outputs": [],
   "source": []
  },
  {
   "cell_type": "code",
   "execution_count": null,
   "id": "42dbf8b7",
   "metadata": {},
   "outputs": [],
   "source": []
  }
 ],
 "metadata": {
  "kernelspec": {
   "display_name": "Python 3 (ipykernel)",
   "language": "python",
   "name": "python3"
  },
  "language_info": {
   "codemirror_mode": {
    "name": "ipython",
    "version": 3
   },
   "file_extension": ".py",
   "mimetype": "text/x-python",
   "name": "python",
   "nbconvert_exporter": "python",
   "pygments_lexer": "ipython3",
   "version": "3.10.2"
  }
 },
 "nbformat": 4,
 "nbformat_minor": 5
}
