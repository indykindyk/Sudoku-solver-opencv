{
 "cells": [
  {
   "cell_type": "code",
   "execution_count": 1,
   "id": "acf4476d",
   "metadata": {},
   "outputs": [],
   "source": [
    "import tensorflow as tf\n",
    "import pickle\n",
    "from keras.preprocessing import image\n",
    "from tensorflow.keras import layers, models\n",
    "import matplotlib.pyplot as plt\n",
    "import os\n",
    "import numpy as np\n",
    "from sklearn.model_selection import train_test_split\n",
    "import cv2 as cv\n",
    "from tensorflow.python.client import device_lib\n"
   ]
  },
  {
   "cell_type": "code",
   "execution_count": 2,
   "id": "8c316d91",
   "metadata": {},
   "outputs": [
    {
     "name": "stderr",
     "output_type": "stream",
     "text": [
      "2022-03-31 17:05:01.012264: I tensorflow/core/platform/cpu_feature_guard.cc:151] This TensorFlow binary is optimized with oneAPI Deep Neural Network Library (oneDNN) to use the following CPU instructions in performance-critical operations:  AVX2 FMA\n",
      "To enable them in other operations, rebuild TensorFlow with the appropriate compiler flags.\n",
      "2022-03-31 17:05:01.053646: I tensorflow/stream_executor/cuda/cuda_gpu_executor.cc:936] successful NUMA node read from SysFS had negative value (-1), but there must be at least one NUMA node, so returning NUMA node zero\n",
      "2022-03-31 17:05:01.066168: W tensorflow/stream_executor/platform/default/dso_loader.cc:64] Could not load dynamic library 'libcusolver.so.11'; dlerror: libcusolver.so.11: cannot open shared object file: No such file or directory; LD_LIBRARY_PATH: /home/karol/.local/lib/python3.9/site-packages/cv2/../../lib64:\n",
      "2022-03-31 17:05:01.068593: W tensorflow/core/common_runtime/gpu/gpu_device.cc:1850] Cannot dlopen some GPU libraries. Please make sure the missing libraries mentioned above are installed properly if you would like to use GPU. Follow the guide at https://www.tensorflow.org/install/gpu for how to download and setup the required libraries for your platform.\n",
      "Skipping registering GPU devices...\n"
     ]
    },
    {
     "data": {
      "text/plain": [
       "[name: \"/device:CPU:0\"\n",
       " device_type: \"CPU\"\n",
       " memory_limit: 268435456\n",
       " locality {\n",
       " }\n",
       " incarnation: 16215036499514860811\n",
       " xla_global_id: -1]"
      ]
     },
     "execution_count": 2,
     "metadata": {},
     "output_type": "execute_result"
    }
   ],
   "source": [
    "device_lib.list_local_devices()"
   ]
  },
  {
   "cell_type": "code",
   "execution_count": 4,
   "id": "778e374d",
   "metadata": {},
   "outputs": [],
   "source": [
    "pickle_in = open(\"/home/karol/model_training_data/X.pickle\",\"rb\")\n",
    "X = pickle.load(pickle_in)\n",
    "\n",
    "pickle_in = open(\"/home/karol/model_training_data/y.pickle\",\"rb\")\n",
    "y = pickle.load(pickle_in)"
   ]
  },
  {
   "cell_type": "code",
   "execution_count": 4,
   "id": "7d7b6653",
   "metadata": {},
   "outputs": [],
   "source": [
    "X_train, X_test, y_train, y_test = train_test_split(X, y, test_size=0.2)"
   ]
  },
  {
   "cell_type": "code",
   "execution_count": 5,
   "id": "bf0bcb2d",
   "metadata": {},
   "outputs": [],
   "source": [
    "X_train = X_train/255\n",
    "X_test = X_test/255"
   ]
  },
  {
   "cell_type": "code",
   "execution_count": 6,
   "id": "3a413066",
   "metadata": {},
   "outputs": [
    {
     "name": "stdout",
     "output_type": "stream",
     "text": [
      "(7200, 1)\n"
     ]
    }
   ],
   "source": [
    "print(y_train.shape)"
   ]
  },
  {
   "cell_type": "code",
   "execution_count": 7,
   "id": "317fbe01",
   "metadata": {},
   "outputs": [
    {
     "data": {
      "image/png": "[encoded data removed]",
      "text/plain": [
       "<Figure size 432x288 with 9 Axes>"
      ]
     },
     "metadata": {
      "needs_background": "light"
     },
     "output_type": "display_data"
    }
   ],
   "source": [
    "plt.figure()\n",
    "for i in range(9):\n",
    "\t# define subplot\n",
    "\tplt.subplot(330 + 1 + i)\n",
    "\t# plot raw pixel data\n",
    "\tplt.imshow(X_train[i], cmap=plt.get_cmap('gray'))\n",
    "# show the figure\n",
    "plt.show()"
   ]
  },
  {
   "cell_type": "code",
   "execution_count": 8,
   "id": "9635bff1",
   "metadata": {},
   "outputs": [],
   "source": [
    "IMG_SHAPE = X_train.shape[1:]"
   ]
  },
  {
   "cell_type": "code",
   "execution_count": 9,
   "id": "9175d046",
   "metadata": {},
   "outputs": [],
   "source": [
    "model = models.Sequential()\n",
    "model.add(layers.Conv2D(128, kernel_size=(3, 3),\n",
    "                 activation='relu',\n",
    "                 input_shape=IMG_SHAPE))\n",
    "model.add(layers.Conv2D(256, (2, 1), activation='relu'))\n",
    "model.add(layers.MaxPooling2D(pool_size=(2, 2)))"
   ]
  },
  {
   "cell_type": "code",
   "execution_count": 10,
   "id": "b39d91e7",
   "metadata": {},
   "outputs": [
    {
     "name": "stdout",
     "output_type": "stream",
     "text": [
      "Model: \"sequential\"\n",
      "_________________________________________________________________\n",
      " Layer (type)                Output Shape              Param #   \n",
      "=================================================================\n",
      " conv2d (Conv2D)             (None, 26, 26, 128)       1280      \n",
      "                                                                 \n",
      " conv2d_1 (Conv2D)           (None, 25, 26, 256)       65792     \n",
      "                                                                 \n",
      " max_pooling2d (MaxPooling2D  (None, 12, 13, 256)      0         \n",
      " )                                                               \n",
      "                                                                 \n",
      "=================================================================\n",
      "Total params: 67,072\n",
      "Trainable params: 67,072\n",
      "Non-trainable params: 0\n",
      "_________________________________________________________________\n"
     ]
    }
   ],
   "source": [
    "model.summary()"
   ]
  },
  {
   "cell_type": "code",
   "execution_count": 11,
   "id": "a71d9a95",
   "metadata": {},
   "outputs": [],
   "source": [
    "model.add(layers.Flatten())\n",
    "model.add(layers.Dense(64, activation='relu'))\n",
    "model.add(layers.Dense(9))"
   ]
  },
  {
   "cell_type": "code",
   "execution_count": 12,
   "id": "80e49a19",
   "metadata": {
    "scrolled": true
   },
   "outputs": [
    {
     "name": "stdout",
     "output_type": "stream",
     "text": [
      "Epoch 1/35\n",
      "225/225 [==============================] - 4s 9ms/step - loss: 0.2463 - accuracy: 0.9258 - val_loss: 0.1018 - val_accuracy: 0.9694\n",
      "Epoch 2/35\n",
      "225/225 [==============================] - 2s 9ms/step - loss: 0.0472 - accuracy: 0.9867 - val_loss: 0.0585 - val_accuracy: 0.9817\n",
      "Epoch 3/35\n",
      "225/225 [==============================] - 2s 8ms/step - loss: 0.0200 - accuracy: 0.9946 - val_loss: 0.0647 - val_accuracy: 0.9811\n",
      "Epoch 4/35\n",
      "225/225 [==============================] - 2s 8ms/step - loss: 0.0100 - accuracy: 0.9982 - val_loss: 0.0533 - val_accuracy: 0.9800\n",
      "Epoch 5/35\n",
      "225/225 [==============================] - 2s 9ms/step - loss: 0.0087 - accuracy: 0.9985 - val_loss: 0.0220 - val_accuracy: 0.9922\n",
      "Epoch 6/35\n",
      "225/225 [==============================] - 2s 8ms/step - loss: 9.0566e-04 - accuracy: 0.9999 - val_loss: 0.0207 - val_accuracy: 0.9928\n",
      "Epoch 7/35\n",
      "225/225 [==============================] - 2s 8ms/step - loss: 3.6230e-04 - accuracy: 1.0000 - val_loss: 0.0230 - val_accuracy: 0.9928\n",
      "Epoch 8/35\n",
      "225/225 [==============================] - 2s 9ms/step - loss: 0.0029 - accuracy: 0.9993 - val_loss: 0.0208 - val_accuracy: 0.9928\n",
      "Epoch 9/35\n",
      "225/225 [==============================] - 2s 8ms/step - loss: 0.0275 - accuracy: 0.9932 - val_loss: 0.0209 - val_accuracy: 0.9906\n",
      "Epoch 10/35\n",
      "225/225 [==============================] - 2s 8ms/step - loss: 0.0084 - accuracy: 0.9974 - val_loss: 0.0302 - val_accuracy: 0.9889\n",
      "Epoch 11/35\n",
      "225/225 [==============================] - 2s 8ms/step - loss: 0.0050 - accuracy: 0.9990 - val_loss: 0.0154 - val_accuracy: 0.9939\n",
      "Epoch 12/35\n",
      "225/225 [==============================] - 2s 8ms/step - loss: 0.0024 - accuracy: 0.9994 - val_loss: 0.0294 - val_accuracy: 0.9933\n",
      "Epoch 13/35\n",
      "225/225 [==============================] - 2s 8ms/step - loss: 0.0018 - accuracy: 0.9997 - val_loss: 0.0158 - val_accuracy: 0.9933\n",
      "Epoch 14/35\n",
      "225/225 [==============================] - 2s 8ms/step - loss: 7.8499e-05 - accuracy: 1.0000 - val_loss: 0.0147 - val_accuracy: 0.9950\n",
      "Epoch 15/35\n",
      "225/225 [==============================] - 2s 8ms/step - loss: 4.8921e-05 - accuracy: 1.0000 - val_loss: 0.0141 - val_accuracy: 0.9944\n",
      "Epoch 16/35\n",
      "225/225 [==============================] - 2s 8ms/step - loss: 3.5432e-05 - accuracy: 1.0000 - val_loss: 0.0143 - val_accuracy: 0.9950\n",
      "Epoch 17/35\n",
      "225/225 [==============================] - 2s 8ms/step - loss: 2.6834e-05 - accuracy: 1.0000 - val_loss: 0.0141 - val_accuracy: 0.9950\n",
      "Epoch 18/35\n",
      "225/225 [==============================] - 2s 8ms/step - loss: 2.1035e-05 - accuracy: 1.0000 - val_loss: 0.0140 - val_accuracy: 0.9944\n",
      "Epoch 19/35\n",
      "225/225 [==============================] - 2s 8ms/step - loss: 1.6942e-05 - accuracy: 1.0000 - val_loss: 0.0139 - val_accuracy: 0.9944\n",
      "Epoch 20/35\n",
      "225/225 [==============================] - 2s 8ms/step - loss: 1.3794e-05 - accuracy: 1.0000 - val_loss: 0.0139 - val_accuracy: 0.9950\n",
      "Epoch 21/35\n",
      "225/225 [==============================] - 2s 8ms/step - loss: 1.1392e-05 - accuracy: 1.0000 - val_loss: 0.0136 - val_accuracy: 0.9944\n",
      "Epoch 22/35\n",
      "225/225 [==============================] - 2s 8ms/step - loss: 9.5437e-06 - accuracy: 1.0000 - val_loss: 0.0134 - val_accuracy: 0.9944\n",
      "Epoch 23/35\n",
      "225/225 [==============================] - 2s 9ms/step - loss: 8.0394e-06 - accuracy: 1.0000 - val_loss: 0.0137 - val_accuracy: 0.9950\n",
      "Epoch 24/35\n",
      "225/225 [==============================] - 2s 8ms/step - loss: 6.8321e-06 - accuracy: 1.0000 - val_loss: 0.0136 - val_accuracy: 0.9950\n",
      "Epoch 25/35\n",
      "225/225 [==============================] - 2s 8ms/step - loss: 5.8582e-06 - accuracy: 1.0000 - val_loss: 0.0138 - val_accuracy: 0.9950\n",
      "Epoch 26/35\n",
      "225/225 [==============================] - 2s 8ms/step - loss: 5.0414e-06 - accuracy: 1.0000 - val_loss: 0.0134 - val_accuracy: 0.9950\n",
      "Epoch 27/35\n",
      "225/225 [==============================] - 2s 8ms/step - loss: 4.3386e-06 - accuracy: 1.0000 - val_loss: 0.0136 - val_accuracy: 0.9944\n",
      "Epoch 28/35\n",
      "225/225 [==============================] - 2s 9ms/step - loss: 3.7672e-06 - accuracy: 1.0000 - val_loss: 0.0138 - val_accuracy: 0.9950\n",
      "Epoch 29/35\n",
      "225/225 [==============================] - 2s 8ms/step - loss: 3.2717e-06 - accuracy: 1.0000 - val_loss: 0.0139 - val_accuracy: 0.9950\n",
      "Epoch 30/35\n",
      "225/225 [==============================] - 2s 8ms/step - loss: 2.8432e-06 - accuracy: 1.0000 - val_loss: 0.0135 - val_accuracy: 0.9944\n",
      "Epoch 31/35\n",
      "225/225 [==============================] - 2s 8ms/step - loss: 2.4781e-06 - accuracy: 1.0000 - val_loss: 0.0139 - val_accuracy: 0.9950\n",
      "Epoch 32/35\n",
      "225/225 [==============================] - 2s 8ms/step - loss: 2.1608e-06 - accuracy: 1.0000 - val_loss: 0.0139 - val_accuracy: 0.9944\n",
      "Epoch 33/35\n",
      "225/225 [==============================] - 2s 9ms/step - loss: 1.8954e-06 - accuracy: 1.0000 - val_loss: 0.0140 - val_accuracy: 0.9944\n",
      "Epoch 34/35\n",
      "225/225 [==============================] - 2s 9ms/step - loss: 1.6640e-06 - accuracy: 1.0000 - val_loss: 0.0140 - val_accuracy: 0.9944\n",
      "Epoch 35/35\n",
      "225/225 [==============================] - 2s 9ms/step - loss: 1.4571e-06 - accuracy: 1.0000 - val_loss: 0.0141 - val_accuracy: 0.9950\n"
     ]
    }
   ],
   "source": [
    "model.compile(optimizer='adam',\n",
    "              loss=tf.keras.losses.SparseCategoricalCrossentropy(from_logits=True),\n",
    "              metrics=['accuracy'])\n",
    "\n",
    "history = model.fit(X_train, y_train, epochs=12, \n",
    "                    validation_data=(X_test,y_test))"
   ]
  },
  {
   "cell_type": "code",
   "execution_count": 13,
   "id": "202e723e",
   "metadata": {},
   "outputs": [],
   "source": [
    "model.save(\"model.h5\")"
   ]
  },
  {
   "cell_type": "code",
   "execution_count": 14,
   "id": "c14d3811",
   "metadata": {
    "scrolled": true
   },
   "outputs": [
    {
     "data": {
      "image/png": "[encoded data removed]",
      "text/plain": [
       "<Figure size 432x288 with 1 Axes>"
      ]
     },
     "metadata": {
      "needs_background": "light"
     },
     "output_type": "display_data"
    }
   ],
   "source": [
    "test_image = cv.imread(\"Box.png\")\n",
    "test_image = cv.resize(test_image,(28,28))\n",
    "plt.figure()\n",
    "plt.imshow(test_image)\n",
    "plt.show()"
   ]
  },
  {
   "cell_type": "code",
   "execution_count": 15,
   "id": "a219e0ef",
   "metadata": {},
   "outputs": [
    {
     "name": "stdout",
     "output_type": "stream",
     "text": [
      "WARNING:tensorflow:Model was constructed with shape (None, 28, 28, 1) for input KerasTensor(type_spec=TensorSpec(shape=(None, 28, 28, 1), dtype=tf.float32, name='conv2d_input'), name='conv2d_input', description=\"created by layer 'conv2d_input'\"), but it was called on an input with incompatible shape (None, 28, 28, 3).\n"
     ]
    },
    {
     "ename": "ValueError",
     "evalue": "in user code:\n\n    File \"/home/karol/.local/lib/python3.8/site-packages/keras/engine/training.py\", line 1801, in predict_function  *\n        return step_function(self, iterator)\n    File \"/home/karol/.local/lib/python3.8/site-packages/keras/engine/training.py\", line 1790, in step_function  **\n        outputs = model.distribute_strategy.run(run_step, args=(data,))\n    File \"/home/karol/.local/lib/python3.8/site-packages/keras/engine/training.py\", line 1783, in run_step  **\n        outputs = model.predict_step(data)\n    File \"/home/karol/.local/lib/python3.8/site-packages/keras/engine/training.py\", line 1751, in predict_step\n        return self(x, training=False)\n    File \"/home/karol/.local/lib/python3.8/site-packages/keras/utils/traceback_utils.py\", line 67, in error_handler\n        raise e.with_traceback(filtered_tb) from None\n    File \"/home/karol/.local/lib/python3.8/site-packages/keras/engine/input_spec.py\", line 248, in assert_input_compatibility\n        raise ValueError(\n\n    ValueError: Exception encountered when calling layer \"sequential\" (type Sequential).\n    \n    Input 0 of layer \"conv2d\" is incompatible with the layer: expected axis -1 of input shape to have value 1, but received input with shape (None, 28, 28, 3)\n    \n    Call arguments received:\n      • inputs=tf.Tensor(shape=(None, 28, 28, 3), dtype=uint8)\n      • training=False\n      • mask=None\n",
     "output_type": "error",
     "traceback": [
      "\u001b[0;31m---------------------------------------------------------------------------\u001b[0m",
      "\u001b[0;31mValueError\u001b[0m                                Traceback (most recent call last)",
      "\u001b[0;32m<ipython-input-15-71c59d8cd2dc>\u001b[0m in \u001b[0;36m<module>\u001b[0;34m\u001b[0m\n\u001b[1;32m      1\u001b[0m \u001b[0mtest_image\u001b[0m \u001b[0;34m=\u001b[0m \u001b[0mnp\u001b[0m\u001b[0;34m.\u001b[0m\u001b[0mexpand_dims\u001b[0m\u001b[0;34m(\u001b[0m\u001b[0mtest_image\u001b[0m\u001b[0;34m,\u001b[0m \u001b[0maxis\u001b[0m\u001b[0;34m=\u001b[0m\u001b[0;36m0\u001b[0m\u001b[0;34m)\u001b[0m\u001b[0;34m\u001b[0m\u001b[0;34m\u001b[0m\u001b[0m\n\u001b[0;32m----> 2\u001b[0;31m \u001b[0mnp\u001b[0m\u001b[0;34m.\u001b[0m\u001b[0margmax\u001b[0m\u001b[0;34m(\u001b[0m\u001b[0mmodel\u001b[0m\u001b[0;34m.\u001b[0m\u001b[0mpredict\u001b[0m\u001b[0;34m(\u001b[0m\u001b[0mtest_image\u001b[0m\u001b[0;34m)\u001b[0m\u001b[0;34m)\u001b[0m\u001b[0;34m\u001b[0m\u001b[0;34m\u001b[0m\u001b[0m\n\u001b[0m",
      "\u001b[0;32m~/.local/lib/python3.8/site-packages/keras/utils/traceback_utils.py\u001b[0m in \u001b[0;36merror_handler\u001b[0;34m(*args, **kwargs)\u001b[0m\n\u001b[1;32m     65\u001b[0m     \u001b[0;32mexcept\u001b[0m \u001b[0mException\u001b[0m \u001b[0;32mas\u001b[0m \u001b[0me\u001b[0m\u001b[0;34m:\u001b[0m  \u001b[0;31m# pylint: disable=broad-except\u001b[0m\u001b[0;34m\u001b[0m\u001b[0;34m\u001b[0m\u001b[0m\n\u001b[1;32m     66\u001b[0m       \u001b[0mfiltered_tb\u001b[0m \u001b[0;34m=\u001b[0m \u001b[0m_process_traceback_frames\u001b[0m\u001b[0;34m(\u001b[0m\u001b[0me\u001b[0m\u001b[0;34m.\u001b[0m\u001b[0m__traceback__\u001b[0m\u001b[0;34m)\u001b[0m\u001b[0;34m\u001b[0m\u001b[0;34m\u001b[0m\u001b[0m\n\u001b[0;32m---> 67\u001b[0;31m       \u001b[0;32mraise\u001b[0m \u001b[0me\u001b[0m\u001b[0;34m.\u001b[0m\u001b[0mwith_traceback\u001b[0m\u001b[0;34m(\u001b[0m\u001b[0mfiltered_tb\u001b[0m\u001b[0;34m)\u001b[0m \u001b[0;32mfrom\u001b[0m \u001b[0;32mNone\u001b[0m\u001b[0;34m\u001b[0m\u001b[0;34m\u001b[0m\u001b[0m\n\u001b[0m\u001b[1;32m     68\u001b[0m     \u001b[0;32mfinally\u001b[0m\u001b[0;34m:\u001b[0m\u001b[0;34m\u001b[0m\u001b[0;34m\u001b[0m\u001b[0m\n\u001b[1;32m     69\u001b[0m       \u001b[0;32mdel\u001b[0m \u001b[0mfiltered_tb\u001b[0m\u001b[0;34m\u001b[0m\u001b[0;34m\u001b[0m\u001b[0m\n",
      "\u001b[0;32m~/.local/lib/python3.8/site-packages/tensorflow/python/framework/func_graph.py\u001b[0m in \u001b[0;36mautograph_handler\u001b[0;34m(*args, **kwargs)\u001b[0m\n\u001b[1;32m   1145\u001b[0m           \u001b[0;32mexcept\u001b[0m \u001b[0mException\u001b[0m \u001b[0;32mas\u001b[0m \u001b[0me\u001b[0m\u001b[0;34m:\u001b[0m  \u001b[0;31m# pylint:disable=broad-except\u001b[0m\u001b[0;34m\u001b[0m\u001b[0;34m\u001b[0m\u001b[0m\n\u001b[1;32m   1146\u001b[0m             \u001b[0;32mif\u001b[0m \u001b[0mhasattr\u001b[0m\u001b[0;34m(\u001b[0m\u001b[0me\u001b[0m\u001b[0;34m,\u001b[0m \u001b[0;34m\"ag_error_metadata\"\u001b[0m\u001b[0;34m)\u001b[0m\u001b[0;34m:\u001b[0m\u001b[0;34m\u001b[0m\u001b[0;34m\u001b[0m\u001b[0m\n\u001b[0;32m-> 1147\u001b[0;31m               \u001b[0;32mraise\u001b[0m \u001b[0me\u001b[0m\u001b[0;34m.\u001b[0m\u001b[0mag_error_metadata\u001b[0m\u001b[0;34m.\u001b[0m\u001b[0mto_exception\u001b[0m\u001b[0;34m(\u001b[0m\u001b[0me\u001b[0m\u001b[0;34m)\u001b[0m\u001b[0;34m\u001b[0m\u001b[0;34m\u001b[0m\u001b[0m\n\u001b[0m\u001b[1;32m   1148\u001b[0m             \u001b[0;32melse\u001b[0m\u001b[0;34m:\u001b[0m\u001b[0;34m\u001b[0m\u001b[0;34m\u001b[0m\u001b[0m\n\u001b[1;32m   1149\u001b[0m               \u001b[0;32mraise\u001b[0m\u001b[0;34m\u001b[0m\u001b[0;34m\u001b[0m\u001b[0m\n",
      "\u001b[0;31mValueError\u001b[0m: in user code:\n\n    File \"/home/karol/.local/lib/python3.8/site-packages/keras/engine/training.py\", line 1801, in predict_function  *\n        return step_function(self, iterator)\n    File \"/home/karol/.local/lib/python3.8/site-packages/keras/engine/training.py\", line 1790, in step_function  **\n        outputs = model.distribute_strategy.run(run_step, args=(data,))\n    File \"/home/karol/.local/lib/python3.8/site-packages/keras/engine/training.py\", line 1783, in run_step  **\n        outputs = model.predict_step(data)\n    File \"/home/karol/.local/lib/python3.8/site-packages/keras/engine/training.py\", line 1751, in predict_step\n        return self(x, training=False)\n    File \"/home/karol/.local/lib/python3.8/site-packages/keras/utils/traceback_utils.py\", line 67, in error_handler\n        raise e.with_traceback(filtered_tb) from None\n    File \"/home/karol/.local/lib/python3.8/site-packages/keras/engine/input_spec.py\", line 248, in assert_input_compatibility\n        raise ValueError(\n\n    ValueError: Exception encountered when calling layer \"sequential\" (type Sequential).\n    \n    Input 0 of layer \"conv2d\" is incompatible with the layer: expected axis -1 of input shape to have value 1, but received input with shape (None, 28, 28, 3)\n    \n    Call arguments received:\n      • inputs=tf.Tensor(shape=(None, 28, 28, 3), dtype=uint8)\n      • training=False\n      • mask=None\n"
     ]
    }
   ],
   "source": [
    "test_image = np.expand_dims(test_image, axis=0)\n",
    "np.argmax(model.predict(test_image))"
   ]
  },
  {
   "cell_type": "code",
   "execution_count": null,
   "id": "97479db9",
   "metadata": {},
   "outputs": [],
   "source": []
  }
 ],
 "metadata": {
  "kernelspec": {
   "display_name": "Python 3",
   "language": "python",
   "name": "python3"
  },
  "language_info": {
   "codemirror_mode": {
    "name": "ipython",
    "version": 3
   },
   "file_extension": ".py",
   "mimetype": "text/x-python",
   "name": "python",
   "nbconvert_exporter": "python",
   "pygments_lexer": "ipython3",
   "version": "3.9.7"
  }
 },
 "nbformat": 4,
 "nbformat_minor": 5
}
