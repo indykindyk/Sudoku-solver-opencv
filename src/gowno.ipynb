{
 "cells": [
  {
   "cell_type": "code",
   "execution_count": 137,
   "id": "dada697f",
   "metadata": {},
   "outputs": [],
   "source": [
    "import tensorflow as tf\n",
    "import pandas as pd\n",
    "import matplotlib.pyplot as plt\n",
    "from tensorflow.keras.datasets import mnist\n",
    "from keras.preprocessing.image import ImageDataGenerator\n",
    "from keras.layers import Conv2D, MaxPool2D, Flatten, Dense, BatchNormalization, Dropout\n",
    "import numpy as np\n",
    "import random\n",
    "import cv2 as cv"
   ]
  },
  {
   "cell_type": "code",
   "execution_count": 138,
   "id": "06789648",
   "metadata": {},
   "outputs": [],
   "source": [
    "(X_train, y_train), (X_test, y_test) = mnist.load_data()"
   ]
  },
  {
   "cell_type": "code",
   "execution_count": 139,
   "id": "acf6f77f",
   "metadata": {},
   "outputs": [],
   "source": [
    "X_test = X_test.reshape(X_test.shape[0], 28, 28, 1)\n",
    "X_train = X_train.reshape(X_train.shape[0], 28, 28, 1)"
   ]
  },
  {
   "cell_type": "code",
   "execution_count": 140,
   "id": "e02ec5fd",
   "metadata": {},
   "outputs": [
    {
     "data": {
      "text/plain": [
       "TensorShape([60000, 10])"
      ]
     },
     "execution_count": 140,
     "metadata": {},
     "output_type": "execute_result"
    }
   ],
   "source": [
    "# one-hot format classes\n",
    "\n",
    "nb_classes = 10 # number of unique digits\n",
    "\n",
    "y_train = tf.one_hot(y_train, nb_classes)\n",
    "y_test = tf.one_hot(y_test, nb_classes)\n",
    "\n",
    "y_test.shape\n",
    "y_train.shape"
   ]
  },
  {
   "cell_type": "code",
   "execution_count": 141,
   "id": "cc3f91f3",
   "metadata": {},
   "outputs": [],
   "source": [
    "# define number of rows & columns\n",
    "num_row = 2\n",
    "num_col = 8\n",
    "num = num_row*num_col"
   ]
  },
  {
   "cell_type": "code",
   "execution_count": 142,
   "id": "a6bb23de",
   "metadata": {},
   "outputs": [
    {
     "data": {
      "text/plain": [
       "<matplotlib.image.AxesImage at 0x7f3d94339e80>"
      ]
     },
     "execution_count": 142,
     "metadata": {},
     "output_type": "execute_result"
    },
    {
     "data": {
      "image/png": "[encoded data removed]",
      "text/plain": [
       "<Figure size 432x288 with 1 Axes>"
      ]
     },
     "metadata": {
      "needs_background": "light"
     },
     "output_type": "display_data"
    }
   ],
   "source": [
    "from cv2 import bitwise_not\n",
    "\n",
    "\n",
    "def cb(img):\n",
    "    img = bitwise_not(img)\n",
    "    kernel = np.ones((2,2), np.uint8)\n",
    "    img = cv.erode(img, kernel, iterations=1)\n",
    "    mean = img.mean()\n",
    "    non_empty_columns = np.where(img.min(axis=0)<mean)[0]\n",
    "    non_empty_rows = np.where(img.min(axis=1)<mean)[0]\n",
    "    boundingBox = (min(non_empty_rows), max(non_empty_rows), min(non_empty_columns), max(non_empty_columns))\n",
    "    bb = boundingBox\n",
    "    img = img[bb[0]:bb[1], bb[2]:bb[3]]\n",
    "    img = cv.bitwise_not(img)\n",
    "    img = cv.resize(img, (28,28))\n",
    "    return img\n",
    "\n",
    "X_train = [cb(x) for x in X_train]\n",
    "X_test = [cb(x) for x in X_test]\n",
    "\n",
    "plt.imshow(X_train[0])"
   ]
  },
  {
   "cell_type": "code",
   "execution_count": 148,
   "id": "b640a8c8",
   "metadata": {},
   "outputs": [],
   "source": [
    "X_train = np.array(X_train)\n",
    "X_test = np.array(X_test)\n",
    "\n",
    "X_test = X_test.reshape(X_test.shape[0], 28, 28, 1)\n",
    "X_train = X_train.reshape(X_train.shape[0], 28, 28, 1)\n",
    "\n",
    "train_datagen = ImageDataGenerator()\n",
    "\n",
    "valid_datagen = ImageDataGenerator()\n",
    "\n",
    "train_generator = train_datagen.flow(X_train, y_train)\n",
    "test_generator = valid_datagen.flow(X_test, y_test)"
   ]
  },
  {
   "cell_type": "code",
   "execution_count": 149,
   "id": "687078c0",
   "metadata": {},
   "outputs": [],
   "source": [
    "model = tf.keras.models.Sequential()\n",
    "model.add(Conv2D(32, kernel_size=(3, 3),\n",
    "                 activation='relu',\n",
    "                 input_shape=(28,28,1),\n",
    "                 padding='same')),\n",
    "model.add(Conv2D(32, (3, 3), activation='relu', padding='same'))\n",
    "model.add(MaxPool2D(pool_size=(2, 2)))\n",
    "model.add(Conv2D(64, kernel_size=(3, 3), activation='relu', padding='same')),\n",
    "model.add(Conv2D(64, (3, 3), activation='relu', padding='same')),\n",
    "\n",
    "model.add(Flatten())\n",
    "model.add(Dense(128, activation='relu'))\n",
    "model.add(Dense(10, activation='softmax'))"
   ]
  },
  {
   "cell_type": "code",
   "execution_count": 150,
   "id": "300f70c1",
   "metadata": {},
   "outputs": [
    {
     "name": "stdout",
     "output_type": "stream",
     "text": [
      "Model: \"sequential_1\"\n",
      "_________________________________________________________________\n",
      " Layer (type)                Output Shape              Param #   \n",
      "=================================================================\n",
      " conv2d_4 (Conv2D)           (None, 28, 28, 32)        320       \n",
      "                                                                 \n",
      " conv2d_5 (Conv2D)           (None, 28, 28, 32)        9248      \n",
      "                                                                 \n",
      " max_pooling2d_1 (MaxPooling  (None, 14, 14, 32)       0         \n",
      " 2D)                                                             \n",
      "                                                                 \n",
      " conv2d_6 (Conv2D)           (None, 14, 14, 64)        18496     \n",
      "                                                                 \n",
      " conv2d_7 (Conv2D)           (None, 14, 14, 64)        36928     \n",
      "                                                                 \n",
      " flatten_1 (Flatten)         (None, 12544)             0         \n",
      "                                                                 \n",
      " dense_2 (Dense)             (None, 128)               1605760   \n",
      "                                                                 \n",
      " dense_3 (Dense)             (None, 10)                1290      \n",
      "                                                                 \n",
      "=================================================================\n",
      "Total params: 1,672,042\n",
      "Trainable params: 1,672,042\n",
      "Non-trainable params: 0\n",
      "_________________________________________________________________\n"
     ]
    }
   ],
   "source": [
    "model.summary()"
   ]
  },
  {
   "cell_type": "code",
   "execution_count": 151,
   "id": "a0a74106",
   "metadata": {
    "scrolled": true
   },
   "outputs": [
    {
     "name": "stdout",
     "output_type": "stream",
     "text": [
      "WARNING:tensorflow:`period` argument is deprecated. Please use `save_freq` to specify the frequency in number of batches seen.\n",
      "Epoch 1/10\n",
      "468/468 [==============================] - 13s 27ms/step - loss: 0.6628 - accuracy: 0.9173 - val_loss: 0.1163 - val_accuracy: 0.9643\n",
      "Epoch 2/10\n",
      "468/468 [==============================] - 13s 27ms/step - loss: 0.1016 - accuracy: 0.9693 - val_loss: 0.0824 - val_accuracy: 0.9749\n",
      "Epoch 3/10\n",
      "468/468 [==============================] - 13s 27ms/step - loss: 0.0764 - accuracy: 0.9766 - val_loss: 0.0681 - val_accuracy: 0.9806\n",
      "Epoch 4/10\n",
      "468/468 [==============================] - 13s 27ms/step - loss: 0.0661 - accuracy: 0.9789 - val_loss: 0.0733 - val_accuracy: 0.9777\n",
      "Epoch 5/10\n",
      "468/468 [==============================] - 13s 27ms/step - loss: 0.0530 - accuracy: 0.9836 - val_loss: 0.0702 - val_accuracy: 0.9777\n",
      "Epoch 6/10\n",
      "468/468 [==============================] - 13s 27ms/step - loss: 0.0522 - accuracy: 0.9840 - val_loss: 0.0444 - val_accuracy: 0.9863\n",
      "Epoch 7/10\n",
      "468/468 [==============================] - 13s 27ms/step - loss: 0.0442 - accuracy: 0.9868 - val_loss: 0.0464 - val_accuracy: 0.9856\n",
      "Epoch 8/10\n",
      "468/468 [==============================] - 13s 27ms/step - loss: 0.0443 - accuracy: 0.9859 - val_loss: 0.0726 - val_accuracy: 0.9780\n",
      "Epoch 9/10\n",
      "468/468 [==============================] - 13s 27ms/step - loss: 0.0497 - accuracy: 0.9860 - val_loss: 0.0482 - val_accuracy: 0.9850\n",
      "Epoch 10/10\n",
      "468/468 [==============================] - 13s 27ms/step - loss: 0.0372 - accuracy: 0.9890 - val_loss: 0.0553 - val_accuracy: 0.9860\n"
     ]
    }
   ],
   "source": [
    "#save model after evry epoch\n",
    "checkpoint=tf.keras.callbacks.ModelCheckpoint(\"models/model-{epoch:02d}-{val_accuracy:.2f}.h5\", monitor='val_loss', verbose=0, save_best_only=False, save_weights_only=False, mode='auto', period=1)\n",
    "\n",
    "callbacks_list = [checkpoint]\n",
    "\n",
    "model.compile(optimizer=tf.keras.optimizers.Adam(),\n",
    "              loss=\"categorical_crossentropy\",\n",
    "              metrics=['accuracy'])\n",
    "\n",
    "history = model.fit(train_generator, validation_data=test_generator, steps_per_epoch=60000//128, epochs=10, callbacks=callbacks_list)"
   ]
  },
  {
   "cell_type": "code",
   "execution_count": 152,
   "id": "1dfd040d",
   "metadata": {},
   "outputs": [
    {
     "data": {
      "text/plain": [
       "Text(0.5, 0, 'epochs')"
      ]
     },
     "execution_count": 152,
     "metadata": {},
     "output_type": "execute_result"
    },
    {
     "data": {
      "image/png": "[encoded data removed]",
      "text/plain": [
       "<Figure size 432x288 with 1 Axes>"
      ]
     },
     "metadata": {
      "needs_background": "light"
     },
     "output_type": "display_data"
    }
   ],
   "source": [
    "pd.DataFrame(history.history).plot()\n",
    "plt.ylabel(\"loss\")\n",
    "plt.xlabel(\"epochs\")"
   ]
  },
  {
   "cell_type": "code",
   "execution_count": 309,
   "id": "33b53b79",
   "metadata": {},
   "outputs": [
    {
     "name": "stdout",
     "output_type": "stream",
     "text": [
      "313/313 [==============================] - 2s 7ms/step - loss: 0.0285 - accuracy: 0.9917\n"
     ]
    },
    {
     "data": {
      "text/plain": [
       "[0.028516730293631554, 0.9916999936103821]"
      ]
     },
     "execution_count": 309,
     "metadata": {},
     "output_type": "execute_result"
    }
   ],
   "source": [
    "model.evaluate(X_test, y_test)"
   ]
  },
  {
   "cell_type": "code",
   "execution_count": 153,
   "id": "07c863db",
   "metadata": {},
   "outputs": [],
   "source": [
    "model.save(\"model.h5\")"
   ]
  },
  {
   "cell_type": "code",
   "execution_count": 27,
   "id": "7953dc3a",
   "metadata": {},
   "outputs": [],
   "source": [
    "from scipy import ndimage as ndi\n",
    "\n",
    "def center_of_mass(img):\n",
    "    cy, cx, _ = ndi.center_of_mass(img)\n",
    "    img = img[int(cy)-20:int(cy)+20, int(cx)-20:int(cx)+20  ]\n",
    "    return img\n",
    "\n",
    "\n",
    "def prepare_box_test(img):\n",
    "    img = np.array(img)\n",
    "    img = img[5:]\n",
    "    img = img[:-5]\n",
    "    img = np.delete(img, range(0, 5), 1)\n",
    "    img = np.delete(img, range(-5, 0), 1)\n",
    "\n",
    "    # Top\n",
    "    while img[0].mean() <= 230:\n",
    "        img = img[1:]\n",
    "\n",
    "    # Down\n",
    "    while img[-1].mean() <= 230:\n",
    "        img = img[:-1]\n",
    "\n",
    "    # Left\n",
    "    while img[:, 0].mean() <= 230:\n",
    "        img = np.delete(img, 0, 1)\n",
    "\n",
    "    # Right\n",
    "    while img[:, -1].mean() <= 230:\n",
    "        img = np.delete(img, -1, 1)\n",
    "\n",
    "    mean = img.mean()\n",
    "\n",
    "    if mean > 250:\n",
    "        return cv.resize(img, (28, 28))\n",
    "\n",
    "    cnts3 = img.copy()\n",
    "    contours2, hierarchy2 = cv.findContours(img, cv.RETR_TREE, cv.CHAIN_APPROX_SIMPLE)\n",
    "\n",
    "    all_areas = []\n",
    "\n",
    "    contours2 = sorted(contours2, key=cv.contourArea, reverse=True)\n",
    "    contours2 = contours2[1:]\n",
    "\n",
    "    for cnt in contours2:\n",
    "        area = cv.contourArea(cnt)\n",
    "        all_areas.append(area)\n",
    "\n",
    "    if len(all_areas) == 0:\n",
    "        return np.zeros((28, 28))\n",
    "\n",
    "    avg_cnt = sum(all_areas) / len(all_areas)\n",
    "\n",
    "    for cnt in contours2:\n",
    "        area = cv.contourArea(cnt)\n",
    "        if area < avg_cnt:\n",
    "            cv.drawContours(cnts3, [cnt], -1, (255, 255, 255), -1)\n",
    "\n",
    "    cnts3 = cnts3[5:]\n",
    "    cnts3 = cnts3[:-5]\n",
    "    cnts3 = np.delete(cnts3, range(0, 5), 1)\n",
    "    cnts3 = np.delete(cnts3, range(-5, 0), 1)\n",
    "    img = cnts3\n",
    "\n",
    "    img = center_of_mass(img)\n",
    "    #img = cv.bitwise_not(img)\n",
    "    #img = cv.resize(img, (28, 28))\n",
    "\n",
    "    return img"
   ]
  },
  {
   "cell_type": "code",
   "execution_count": 56,
   "id": "f961e6b4",
   "metadata": {},
   "outputs": [],
   "source": [
    "def cb(img):\n",
    "    img = np.array(img)\n",
    "    mean = img.mean()\n",
    "    non_empty_columns = np.where(img.min(axis=0)<mean)[0]\n",
    "    non_empty_rows = np.where(img.min(axis=1)<mean)[0]\n",
    "    box_w = max(non_empty_rows)+5 - min(non_empty_rows)-5\n",
    "    box_h = max(non_empty_columns) - min(non_empty_rows)\n",
    "    center = (min(non_empty_rows)+int(box_w/2), min(non_empty_columns)+int(box_h/2))   \n",
    "    bb = (center[0]-20, center[0]+20, center[1]-20, center[1]+20)\n",
    "    return bb\n",
    "\n",
    "def prepeare_img(img):\n",
    "    img = np.array(img)\n",
    "\n",
    "    # Top\n",
    "    while img[0].mean() <= 230:\n",
    "        img = img[1:]\n",
    "\n",
    "    # Down\n",
    "    while img[-1].mean() <= 230:\n",
    "        img = img[:-1]\n",
    "\n",
    "    #Left\n",
    "    while img[:,0].mean() <= 230:\n",
    "        img = np.delete(img, 0, 1)\n",
    "\n",
    "    #Right\n",
    "    while img[:, -1].mean() <= 230:\n",
    "        img = np.delete(img, -1, 1)\n",
    "\n",
    "    img = img[5:]\n",
    "    img = img[:-5]\n",
    "    img = np.delete(img, range(0,10), 1)\n",
    "    img = np.delete(img, range(-5, 0), 1)\n",
    "\n",
    "    # Top\n",
    "    while img[0].mean() <= 230:\n",
    "        img = img[1:]\n",
    "\n",
    "    # Down\n",
    "    while img[-1].mean() <= 230:\n",
    "        img = img[:-1]\n",
    "\n",
    "    #Left\n",
    "    while img[:,0].mean() <= 230:\n",
    "        img = np.delete(img, 0, 1)\n",
    "\n",
    "    #Right\n",
    "    while img[:, -1].mean() <= 230:\n",
    "        img = np.delete(img, -1, 1)\n",
    "\n",
    "    \n",
    "    img = img[5:]\n",
    "    img = img[:-5]\n",
    "    img = np.delete(img, range(0,5), 1)\n",
    "    img = np.delete(img, range(-5, 0), 1)\n",
    "\n",
    "    # Top\n",
    "    while img[0].mean() <= 230:\n",
    "        img = img[1:]\n",
    "\n",
    "    # Down\n",
    "    while img[-1].mean() <= 230:\n",
    "        img = img[:-1]\n",
    "\n",
    "    #Left\n",
    "    while img[:,0].mean() <= 230:\n",
    "        img = np.delete(img, 0, 1)\n",
    "\n",
    "    #Right\n",
    "    while img[:, -1].mean() <= 230:\n",
    "        img = np.delete(img, -1, 1)\n",
    "\n",
    "\n",
    "    cnts3 = img.copy()\n",
    "    contours2, hierarchy2 = cv.findContours(img, cv.RETR_TREE, cv.CHAIN_APPROX_SIMPLE)\n",
    "\n",
    "    all_areas= []\n",
    "\n",
    "    contours2 = sorted(contours2, key=cv.contourArea, reverse=True)\n",
    "    contours2 = contours2[1:]\n",
    "\n",
    "    for cnt in contours2:\n",
    "        area= cv.contourArea(cnt)\n",
    "        all_areas.append(area)\n",
    "    \n",
    "    avg_cnt = sum(all_areas)/len(all_areas)\n",
    "\n",
    "    for cnt in contours2:\n",
    "        area = cv.contourArea(cnt)\n",
    "        if area < avg_cnt:\n",
    "            cv.drawContours(cnts3, [cnt], -1, (255,255,255), -1)\n",
    "\n",
    "    cnts3 = cnts3[5:]\n",
    "    cnts3 = cnts3[:-5]\n",
    "    cnts3 = np.delete(cnts3, range(0,5), 1)\n",
    "    cnts3 = np.delete(cnts3, range(-5, 0), 1)\n",
    "\n",
    "    return cnts3\n",
    "\n",
    "\n",
    "def pred_and_plot(img_path, model_path):\n",
    "    model = tf.keras.models.load_model(model_path)\n",
    "    fig = plt.figure(figsize=(10, 7))\n",
    "    img = tf.io.read_file(img_path)\n",
    "    img = tf.image.decode_image(img, channels=1)\n",
    "\n",
    "    fig.add_subplot(1, 4, 1)\n",
    "    plt.imshow(img)\n",
    "    plt.axis(False)\n",
    "\n",
    "    img2 = img\n",
    "    img1 = prepeare_img(img)\n",
    "    img2 = img1\n",
    "    bb = cb(img1)\n",
    "\n",
    "    fig.add_subplot(1, 4, 2)\n",
    "    plt.imshow(img1)\n",
    "    plt.plot([bb[2], bb[3], bb[3], bb[2], bb[2]],\n",
    "            [bb[0], bb[0],bb[1], bb[1], bb[0]],\n",
    "            \"r-\")\n",
    "    plt.axis(False)\n",
    "\n",
    "    img1 = img1[bb[0]:bb[1], bb[2]:bb[3]] \n",
    "    img1 = cv.bitwise_not(img1)\n",
    "    img1 = cv.resize(img1, (28,28))\n",
    "\n",
    "    img2 = prepare_box_test(img2)\n",
    "    img2 = cv.bitwise_not(img2)\n",
    "    img2 = cv.resize(img2, (28,28))\n",
    "    \n",
    "    fig.add_subplot(1, 4, 3)\n",
    "    plt.imshow(img1)\n",
    "    plt.axis(False)\n",
    "    img1 = tf.expand_dims(img1, 0)\n",
    "    plt.title(np.argmax(model.predict(img1)))\n",
    "\n",
    "    fig.add_subplot(1, 4, 4)\n",
    "    plt.imshow(img2)\n",
    "    plt.axis(False)\n",
    "    img2 = tf.expand_dims(img2, 0)\n",
    "    plt.title(np.argmax(model.predict(img2)))\n",
    "\n",
    "    plt.axis(False)\n",
    "    plt.colorbar;\n",
    "\n",
    "\n"
   ]
  },
  {
   "cell_type": "code",
   "execution_count": 74,
   "id": "13791bd8",
   "metadata": {},
   "outputs": [
    {
     "name": "stdout",
     "output_type": "stream",
     "text": [
      "(43, 36)\n"
     ]
    },
    {
     "data": {
      "image/png": "[encoded data removed]",
      "text/plain": [
       "<Figure size 720x504 with 4 Axes>"
      ]
     },
     "metadata": {
      "needs_background": "light"
     },
     "output_type": "display_data"
    }
   ],
   "source": [
    "pred_and_plot(\"box_pre74.png\", \"models/model-08-0.99.h5\")"
   ]
  }
 ],
 "metadata": {
  "kernelspec": {
   "display_name": "Python 3.9.7 ('base')",
   "language": "python",
   "name": "python3"
  },
  "language_info": {
   "codemirror_mode": {
    "name": "ipython",
    "version": 3
   },
   "file_extension": ".py",
   "mimetype": "text/x-python",
   "name": "python",
   "nbconvert_exporter": "python",
   "pygments_lexer": "ipython3",
   "version": "3.9.7"
  },
  "vscode": {
   "interpreter": {
    "hash": "49b533991c9f67ef50febbfc523ab8a5beaec9270c9e0da7b089f4cdaf973ee3"
   }
  }
 },
 "nbformat": 4,
 "nbformat_minor": 5
}
