{
 "cells": [
  {
   "cell_type": "code",
   "execution_count": 71,
   "id": "dada697f",
   "metadata": {},
   "outputs": [],
   "source": [
    "import tensorflow as tf\n",
    "import pandas as pd\n",
    "import matplotlib.pyplot as plt\n",
    "from tensorflow.keras.datasets import mnist\n",
    "from keras.preprocessing.image import ImageDataGenerator\n",
    "from keras.layers import Conv2D, MaxPool2D, Flatten, Dense, BatchNormalization, Dropout\n",
    "import numpy as np\n",
    "import random\n",
    "import cv2 as cv"
   ]
  },
  {
   "cell_type": "markdown",
   "id": "f335e7d5",
   "metadata": {},
   "source": [
    "## Training hyperparametrs"
   ]
  },
  {
   "cell_type": "code",
   "execution_count": 72,
   "id": "f04784cd",
   "metadata": {},
   "outputs": [],
   "source": [
    "epochs = 100\n",
    "batch_size = 32"
   ]
  },
  {
   "cell_type": "markdown",
   "id": "cdaac403",
   "metadata": {},
   "source": [
    "## Prepare data"
   ]
  },
  {
   "cell_type": "code",
   "execution_count": 73,
   "id": "6553d645",
   "metadata": {},
   "outputs": [],
   "source": [
    "train_dir = \"../training_data/\"\n",
    "test_dir = \"../testing_data/\""
   ]
  },
  {
   "cell_type": "code",
   "execution_count": 87,
   "id": "a28cb441",
   "metadata": {},
   "outputs": [
    {
     "name": "stdout",
     "output_type": "stream",
     "text": [
      "Found 7750 images belonging to 9 classes.\n",
      "Found 862 images belonging to 9 classes.\n"
     ]
    }
   ],
   "source": [
    "# Set the seed\n",
    "tf.random.set_seed(42)\n",
    "\n",
    "# Preprocess data (get all of the pixel values between 1 and 0, also called scaling/normalization)\n",
    "train_datagen = ImageDataGenerator(\n",
    "    rescale=1/255.,\n",
    "    zoom_range=0.1,\n",
    "    brightness_range=[0.9, 1.1],\n",
    "    validation_split=0.2,\n",
    "    samplewise_center=True,\n",
    "    samplewise_std_normalization=True,\n",
    ")\n",
    "\n",
    "valid_datagen = ImageDataGenerator(\n",
    "    rescale=1/255.,\n",
    "    validation_split=0.2,\n",
    "    samplewise_center=True,\n",
    "    samplewise_std_normalization=True,\n",
    ")\n",
    "\n",
    "# Import data from directories and turn it into batches\n",
    "train_data = train_datagen.flow_from_directory(\n",
    "    train_dir,\n",
    "    target_size=(28, 28),\n",
    "    color_mode=\"grayscale\",\n",
    "    shuffle=True,\n",
    "    class_mode=\"categorical\",\n",
    "    batch_size=batch_size,  # number of images to process at a time\n",
    "    seed=42,\n",
    ")\n",
    "\n",
    "valid_data = valid_datagen.flow_from_directory(\n",
    "    test_dir,\n",
    "    target_size=(28, 28),\n",
    "    shuffle=True,\n",
    "    color_mode=\"grayscale\",\n",
    "    class_mode=\"categorical\",\n",
    "    batch_size=batch_size,\n",
    "    seed=42,\n",
    ")\n"
   ]
  },
  {
   "cell_type": "markdown",
   "id": "da2e19ec",
   "metadata": {},
   "source": [
    "## Define the model"
   ]
  },
  {
   "cell_type": "code",
   "execution_count": 88,
   "id": "687078c0",
   "metadata": {},
   "outputs": [],
   "source": [
    "model = tf.keras.models.Sequential()\n",
    "model.add(Conv2D(32, kernel_size=(3, 3), activation=\"relu\", input_shape=(28, 28, 1))),\n",
    "model.add(Conv2D(32, (3, 3), activation=\"relu\"))\n",
    "model.add(MaxPool2D(pool_size=(2, 2)))\n",
    "model.add(Conv2D(64, kernel_size=(3, 3), activation=\"relu\")),\n",
    "model.add(Conv2D(64, (3, 3), activation=\"relu\")),\n",
    "\n",
    "model.add(Flatten())\n",
    "model.add(Dense(128, activation=\"relu\"))\n",
    "model.add(Dense(9, activation=\"softmax\"))\n"
   ]
  },
  {
   "cell_type": "code",
   "execution_count": 89,
   "id": "300f70c1",
   "metadata": {},
   "outputs": [
    {
     "name": "stdout",
     "output_type": "stream",
     "text": [
      "Model: \"sequential_14\"\n",
      "_________________________________________________________________\n",
      " Layer (type)                Output Shape              Param #   \n",
      "=================================================================\n",
      " conv2d_56 (Conv2D)          (None, 26, 26, 32)        320       \n",
      "                                                                 \n",
      " conv2d_57 (Conv2D)          (None, 24, 24, 32)        9248      \n",
      "                                                                 \n",
      " max_pooling2d_14 (MaxPoolin  (None, 12, 12, 32)       0         \n",
      " g2D)                                                            \n",
      "                                                                 \n",
      " conv2d_58 (Conv2D)          (None, 10, 10, 64)        18496     \n",
      "                                                                 \n",
      " conv2d_59 (Conv2D)          (None, 8, 8, 64)          36928     \n",
      "                                                                 \n",
      " flatten_14 (Flatten)        (None, 4096)              0         \n",
      "                                                                 \n",
      " dense_28 (Dense)            (None, 128)               524416    \n",
      "                                                                 \n",
      " dense_29 (Dense)            (None, 9)                 1161      \n",
      "                                                                 \n",
      "=================================================================\n",
      "Total params: 590,569\n",
      "Trainable params: 590,569\n",
      "Non-trainable params: 0\n",
      "_________________________________________________________________\n"
     ]
    }
   ],
   "source": [
    "model.summary()"
   ]
  },
  {
   "cell_type": "code",
   "execution_count": 90,
   "id": "a0a74106",
   "metadata": {
    "scrolled": true
   },
   "outputs": [
    {
     "name": "stdout",
     "output_type": "stream",
     "text": [
      "WARNING:tensorflow:`period` argument is deprecated. Please use `save_freq` to specify the frequency in number of batches seen.\n",
      "Epoch 1/30\n",
      "243/243 [==============================] - 7s 27ms/step - loss: 0.1203 - accuracy: 0.9747 - val_loss: 0.0315 - val_accuracy: 0.9954\n",
      "Epoch 2/30\n",
      "243/243 [==============================] - 6s 26ms/step - loss: 0.0315 - accuracy: 0.9907 - val_loss: 0.0369 - val_accuracy: 0.9930\n",
      "Epoch 3/30\n",
      "243/243 [==============================] - 6s 26ms/step - loss: 0.0194 - accuracy: 0.9941 - val_loss: 0.0246 - val_accuracy: 0.9954\n",
      "Epoch 4/30\n",
      "243/243 [==============================] - 6s 26ms/step - loss: 0.0209 - accuracy: 0.9938 - val_loss: 0.0283 - val_accuracy: 0.9942\n",
      "Epoch 5/30\n",
      "243/243 [==============================] - 6s 25ms/step - loss: 0.0145 - accuracy: 0.9965 - val_loss: 0.0440 - val_accuracy: 0.9942\n",
      "Epoch 6/30\n",
      "243/243 [==============================] - 6s 26ms/step - loss: 0.0073 - accuracy: 0.9983 - val_loss: 0.0191 - val_accuracy: 0.9954\n",
      "Epoch 7/30\n",
      "243/243 [==============================] - 6s 26ms/step - loss: 0.0072 - accuracy: 0.9979 - val_loss: 0.0303 - val_accuracy: 0.9954\n",
      "Epoch 8/30\n",
      "243/243 [==============================] - 6s 26ms/step - loss: 0.0052 - accuracy: 0.9986 - val_loss: 0.0310 - val_accuracy: 0.9942\n",
      "Epoch 9/30\n",
      "243/243 [==============================] - 6s 26ms/step - loss: 0.0089 - accuracy: 0.9974 - val_loss: 0.0353 - val_accuracy: 0.9942\n",
      "Epoch 10/30\n",
      "243/243 [==============================] - 6s 26ms/step - loss: 0.0088 - accuracy: 0.9977 - val_loss: 0.0304 - val_accuracy: 0.9954\n",
      "Epoch 11/30\n",
      "243/243 [==============================] - 6s 26ms/step - loss: 0.0029 - accuracy: 0.9991 - val_loss: 0.0670 - val_accuracy: 0.9954\n",
      "Epoch 12/30\n",
      "243/243 [==============================] - 6s 26ms/step - loss: 0.0079 - accuracy: 0.9979 - val_loss: 0.0414 - val_accuracy: 0.9942\n",
      "Epoch 13/30\n",
      "243/243 [==============================] - 6s 26ms/step - loss: 0.0044 - accuracy: 0.9987 - val_loss: 0.0690 - val_accuracy: 0.9942\n",
      "Epoch 14/30\n",
      "243/243 [==============================] - 6s 26ms/step - loss: 0.0027 - accuracy: 0.9988 - val_loss: 0.0644 - val_accuracy: 0.9942\n",
      "Epoch 15/30\n",
      "243/243 [==============================] - 6s 26ms/step - loss: 0.0095 - accuracy: 0.9979 - val_loss: 0.1056 - val_accuracy: 0.9884\n",
      "Epoch 16/30\n",
      "243/243 [==============================] - 6s 26ms/step - loss: 0.0094 - accuracy: 0.9975 - val_loss: 0.0645 - val_accuracy: 0.9942\n",
      "Epoch 17/30\n",
      "243/243 [==============================] - 6s 26ms/step - loss: 0.0017 - accuracy: 0.9992 - val_loss: 0.0500 - val_accuracy: 0.9954\n",
      "Epoch 18/30\n",
      "243/243 [==============================] - 6s 25ms/step - loss: 0.0016 - accuracy: 0.9994 - val_loss: 0.0601 - val_accuracy: 0.9954\n",
      "Epoch 19/30\n",
      "243/243 [==============================] - 6s 26ms/step - loss: 0.0022 - accuracy: 0.9995 - val_loss: 0.0401 - val_accuracy: 0.9954\n",
      "Epoch 20/30\n",
      "243/243 [==============================] - 6s 26ms/step - loss: 0.0027 - accuracy: 0.9990 - val_loss: 0.0384 - val_accuracy: 0.9942\n",
      "Epoch 21/30\n",
      "243/243 [==============================] - 6s 26ms/step - loss: 9.6411e-04 - accuracy: 0.9997 - val_loss: 0.0505 - val_accuracy: 0.9954\n",
      "Epoch 22/30\n",
      "243/243 [==============================] - 6s 26ms/step - loss: 3.2443e-04 - accuracy: 0.9999 - val_loss: 0.0558 - val_accuracy: 0.9954\n",
      "Epoch 23/30\n",
      "243/243 [==============================] - 6s 26ms/step - loss: 0.0080 - accuracy: 0.9974 - val_loss: 0.0484 - val_accuracy: 0.9954\n",
      "Epoch 24/30\n",
      "243/243 [==============================] - 6s 25ms/step - loss: 0.0063 - accuracy: 0.9981 - val_loss: 0.0329 - val_accuracy: 0.9954\n",
      "Epoch 25/30\n",
      "243/243 [==============================] - 6s 26ms/step - loss: 0.0029 - accuracy: 0.9991 - val_loss: 0.0379 - val_accuracy: 0.9954\n",
      "Epoch 26/30\n",
      "243/243 [==============================] - 6s 26ms/step - loss: 0.0020 - accuracy: 0.9992 - val_loss: 0.0627 - val_accuracy: 0.9954\n",
      "Epoch 27/30\n",
      "243/243 [==============================] - 6s 26ms/step - loss: 0.0170 - accuracy: 0.9963 - val_loss: 0.0823 - val_accuracy: 0.9942\n",
      "Epoch 28/30\n",
      "243/243 [==============================] - 6s 26ms/step - loss: 0.0071 - accuracy: 0.9985 - val_loss: 0.0473 - val_accuracy: 0.9954\n",
      "Epoch 29/30\n",
      "243/243 [==============================] - 6s 26ms/step - loss: 0.0023 - accuracy: 0.9991 - val_loss: 0.0537 - val_accuracy: 0.9954\n",
      "Epoch 30/30\n",
      "243/243 [==============================] - 6s 26ms/step - loss: 0.0028 - accuracy: 0.9996 - val_loss: 0.0440 - val_accuracy: 0.9954\n"
     ]
    }
   ],
   "source": [
    "# save model after evry epoch\n",
    "checkpoint = tf.keras.callbacks.ModelCheckpoint(\n",
    "    \"models/model-{epoch:02d}-{val_accuracy:.2f}.h5\",\n",
    "    monitor=\"val_loss\",\n",
    "    verbose=0,\n",
    "    save_best_only=False,\n",
    "    save_weights_only=False,\n",
    "    mode=\"auto\",\n",
    "    period=1,\n",
    ")\n",
    "\n",
    "callbacks_list = [checkpoint]\n",
    "\n",
    "model.compile(\n",
    "    optimizer=tf.keras.optimizers.Adam(),\n",
    "    loss=\"categorical_crossentropy\",\n",
    "    metrics=[\"accuracy\"],\n",
    ")\n",
    "\n",
    "history = model.fit(\n",
    "    train_data,\n",
    "    validation_data=valid_data,\n",
    "    steps_per_epoch=len(train_data),\n",
    "    epochs=30,\n",
    "    validation_steps=len(valid_data),\n",
    "    callbacks=callbacks_list,\n",
    ")\n"
   ]
  },
  {
   "cell_type": "code",
   "execution_count": 91,
   "id": "1dfd040d",
   "metadata": {},
   "outputs": [
    {
     "ename": "ValueError",
     "evalue": "x and y must have same first dimension, but have shapes (100,) and (30,)",
     "output_type": "error",
     "traceback": [
      "\u001b[0;31m---------------------------------------------------------------------------\u001b[0m",
      "\u001b[0;31mValueError\u001b[0m                                Traceback (most recent call last)",
      "\u001b[1;32m/home/karol/python_projekty/Sudoku-solver-opencv/src/gowno.ipynb Cell 11\u001b[0m in \u001b[0;36m<cell line: 10>\u001b[0;34m()\u001b[0m\n\u001b[1;32m      <a href='vscode-notebook-cell:/home/karol/python_projekty/Sudoku-solver-opencv/src/gowno.ipynb#ch0000010?line=7'>8</a>\u001b[0m plt\u001b[39m.\u001b[39mfigure(figsize\u001b[39m=\u001b[39m(\u001b[39m8\u001b[39m, \u001b[39m8\u001b[39m))\n\u001b[1;32m      <a href='vscode-notebook-cell:/home/karol/python_projekty/Sudoku-solver-opencv/src/gowno.ipynb#ch0000010?line=8'>9</a>\u001b[0m plt\u001b[39m.\u001b[39msubplot(\u001b[39m1\u001b[39m, \u001b[39m2\u001b[39m, \u001b[39m1\u001b[39m)\n\u001b[0;32m---> <a href='vscode-notebook-cell:/home/karol/python_projekty/Sudoku-solver-opencv/src/gowno.ipynb#ch0000010?line=9'>10</a>\u001b[0m plt\u001b[39m.\u001b[39;49mplot(epochs_range, acc, label\u001b[39m=\u001b[39;49m\u001b[39m\"\u001b[39;49m\u001b[39mTraining Accuracy\u001b[39;49m\u001b[39m\"\u001b[39;49m)\n\u001b[1;32m     <a href='vscode-notebook-cell:/home/karol/python_projekty/Sudoku-solver-opencv/src/gowno.ipynb#ch0000010?line=10'>11</a>\u001b[0m plt\u001b[39m.\u001b[39mplot(epochs_range, val_acc, label\u001b[39m=\u001b[39m\u001b[39m\"\u001b[39m\u001b[39mValidation Accuracy\u001b[39m\u001b[39m\"\u001b[39m)\n\u001b[1;32m     <a href='vscode-notebook-cell:/home/karol/python_projekty/Sudoku-solver-opencv/src/gowno.ipynb#ch0000010?line=11'>12</a>\u001b[0m plt\u001b[39m.\u001b[39mlegend(loc\u001b[39m=\u001b[39m\u001b[39m\"\u001b[39m\u001b[39mlower right\u001b[39m\u001b[39m\"\u001b[39m)\n",
      "File \u001b[0;32m~/.local/lib/python3.9/site-packages/matplotlib/pyplot.py:2757\u001b[0m, in \u001b[0;36mplot\u001b[0;34m(scalex, scaley, data, *args, **kwargs)\u001b[0m\n\u001b[1;32m   2755\u001b[0m \u001b[39m@_copy_docstring_and_deprecators\u001b[39m(Axes\u001b[39m.\u001b[39mplot)\n\u001b[1;32m   2756\u001b[0m \u001b[39mdef\u001b[39;00m \u001b[39mplot\u001b[39m(\u001b[39m*\u001b[39margs, scalex\u001b[39m=\u001b[39m\u001b[39mTrue\u001b[39;00m, scaley\u001b[39m=\u001b[39m\u001b[39mTrue\u001b[39;00m, data\u001b[39m=\u001b[39m\u001b[39mNone\u001b[39;00m, \u001b[39m*\u001b[39m\u001b[39m*\u001b[39mkwargs):\n\u001b[0;32m-> 2757\u001b[0m     \u001b[39mreturn\u001b[39;00m gca()\u001b[39m.\u001b[39;49mplot(\n\u001b[1;32m   2758\u001b[0m         \u001b[39m*\u001b[39;49margs, scalex\u001b[39m=\u001b[39;49mscalex, scaley\u001b[39m=\u001b[39;49mscaley,\n\u001b[1;32m   2759\u001b[0m         \u001b[39m*\u001b[39;49m\u001b[39m*\u001b[39;49m({\u001b[39m\"\u001b[39;49m\u001b[39mdata\u001b[39;49m\u001b[39m\"\u001b[39;49m: data} \u001b[39mif\u001b[39;49;00m data \u001b[39mis\u001b[39;49;00m \u001b[39mnot\u001b[39;49;00m \u001b[39mNone\u001b[39;49;00m \u001b[39melse\u001b[39;49;00m {}), \u001b[39m*\u001b[39;49m\u001b[39m*\u001b[39;49mkwargs)\n",
      "File \u001b[0;32m~/.local/lib/python3.9/site-packages/matplotlib/axes/_axes.py:1632\u001b[0m, in \u001b[0;36mAxes.plot\u001b[0;34m(self, scalex, scaley, data, *args, **kwargs)\u001b[0m\n\u001b[1;32m   1390\u001b[0m \u001b[39m\"\"\"\u001b[39;00m\n\u001b[1;32m   1391\u001b[0m \u001b[39mPlot y versus x as lines and/or markers.\u001b[39;00m\n\u001b[1;32m   1392\u001b[0m \n\u001b[0;32m   (...)\u001b[0m\n\u001b[1;32m   1629\u001b[0m \u001b[39m(``'green'``) or hex strings (``'#008000'``).\u001b[39;00m\n\u001b[1;32m   1630\u001b[0m \u001b[39m\"\"\"\u001b[39;00m\n\u001b[1;32m   1631\u001b[0m kwargs \u001b[39m=\u001b[39m cbook\u001b[39m.\u001b[39mnormalize_kwargs(kwargs, mlines\u001b[39m.\u001b[39mLine2D)\n\u001b[0;32m-> 1632\u001b[0m lines \u001b[39m=\u001b[39m [\u001b[39m*\u001b[39m\u001b[39mself\u001b[39m\u001b[39m.\u001b[39m_get_lines(\u001b[39m*\u001b[39margs, data\u001b[39m=\u001b[39mdata, \u001b[39m*\u001b[39m\u001b[39m*\u001b[39mkwargs)]\n\u001b[1;32m   1633\u001b[0m \u001b[39mfor\u001b[39;00m line \u001b[39min\u001b[39;00m lines:\n\u001b[1;32m   1634\u001b[0m     \u001b[39mself\u001b[39m\u001b[39m.\u001b[39madd_line(line)\n",
      "File \u001b[0;32m~/.local/lib/python3.9/site-packages/matplotlib/axes/_base.py:312\u001b[0m, in \u001b[0;36m_process_plot_var_args.__call__\u001b[0;34m(self, data, *args, **kwargs)\u001b[0m\n\u001b[1;32m    310\u001b[0m     this \u001b[39m+\u001b[39m\u001b[39m=\u001b[39m args[\u001b[39m0\u001b[39m],\n\u001b[1;32m    311\u001b[0m     args \u001b[39m=\u001b[39m args[\u001b[39m1\u001b[39m:]\n\u001b[0;32m--> 312\u001b[0m \u001b[39myield from\u001b[39;00m \u001b[39mself\u001b[39;49m\u001b[39m.\u001b[39;49m_plot_args(this, kwargs)\n",
      "File \u001b[0;32m~/.local/lib/python3.9/site-packages/matplotlib/axes/_base.py:498\u001b[0m, in \u001b[0;36m_process_plot_var_args._plot_args\u001b[0;34m(self, tup, kwargs, return_kwargs)\u001b[0m\n\u001b[1;32m    495\u001b[0m     \u001b[39mself\u001b[39m\u001b[39m.\u001b[39maxes\u001b[39m.\u001b[39myaxis\u001b[39m.\u001b[39mupdate_units(y)\n\u001b[1;32m    497\u001b[0m \u001b[39mif\u001b[39;00m x\u001b[39m.\u001b[39mshape[\u001b[39m0\u001b[39m] \u001b[39m!=\u001b[39m y\u001b[39m.\u001b[39mshape[\u001b[39m0\u001b[39m]:\n\u001b[0;32m--> 498\u001b[0m     \u001b[39mraise\u001b[39;00m \u001b[39mValueError\u001b[39;00m(\u001b[39mf\u001b[39m\u001b[39m\"\u001b[39m\u001b[39mx and y must have same first dimension, but \u001b[39m\u001b[39m\"\u001b[39m\n\u001b[1;32m    499\u001b[0m                      \u001b[39mf\u001b[39m\u001b[39m\"\u001b[39m\u001b[39mhave shapes \u001b[39m\u001b[39m{\u001b[39;00mx\u001b[39m.\u001b[39mshape\u001b[39m}\u001b[39;00m\u001b[39m and \u001b[39m\u001b[39m{\u001b[39;00my\u001b[39m.\u001b[39mshape\u001b[39m}\u001b[39;00m\u001b[39m\"\u001b[39m)\n\u001b[1;32m    500\u001b[0m \u001b[39mif\u001b[39;00m x\u001b[39m.\u001b[39mndim \u001b[39m>\u001b[39m \u001b[39m2\u001b[39m \u001b[39mor\u001b[39;00m y\u001b[39m.\u001b[39mndim \u001b[39m>\u001b[39m \u001b[39m2\u001b[39m:\n\u001b[1;32m    501\u001b[0m     \u001b[39mraise\u001b[39;00m \u001b[39mValueError\u001b[39;00m(\u001b[39mf\u001b[39m\u001b[39m\"\u001b[39m\u001b[39mx and y can be no greater than 2D, but have \u001b[39m\u001b[39m\"\u001b[39m\n\u001b[1;32m    502\u001b[0m                      \u001b[39mf\u001b[39m\u001b[39m\"\u001b[39m\u001b[39mshapes \u001b[39m\u001b[39m{\u001b[39;00mx\u001b[39m.\u001b[39mshape\u001b[39m}\u001b[39;00m\u001b[39m and \u001b[39m\u001b[39m{\u001b[39;00my\u001b[39m.\u001b[39mshape\u001b[39m}\u001b[39;00m\u001b[39m\"\u001b[39m)\n",
      "\u001b[0;31mValueError\u001b[0m: x and y must have same first dimension, but have shapes (100,) and (30,)"
     ]
    },
    {
     "data": {
      "image/png": "[encoded data removed]",
      "text/plain": [
       "<Figure size 576x576 with 1 Axes>"
      ]
     },
     "metadata": {
      "needs_background": "light"
     },
     "output_type": "display_data"
    }
   ],
   "source": [
    "acc = history.history[\"accuracy\"]\n",
    "val_acc = history.history[\"val_accuracy\"]\n",
    "\n",
    "loss = history.history[\"loss\"]\n",
    "val_loss = history.history[\"val_loss\"]\n",
    "\n",
    "epochs_range = range(epochs)\n",
    "plt.figure(figsize=(8, 8))\n",
    "plt.subplot(1, 2, 1)\n",
    "plt.plot(epochs_range, acc, label=\"Training Accuracy\")\n",
    "plt.plot(epochs_range, val_acc, label=\"Validation Accuracy\")\n",
    "plt.legend(loc=\"lower right\")\n",
    "plt.title(\"Training and Validation Accuracy\")\n",
    "\n",
    "plt.subplot(1, 2, 2)\n",
    "plt.plot(epochs_range, loss, label=\"Training Loss\")\n",
    "plt.plot(epochs_range, val_loss, label=\"Validation Loss\")\n",
    "plt.legend(loc=\"upper right\")\n",
    "plt.title(\"Training and Validation Loss\")\n",
    "plt.show()\n"
   ]
  },
  {
   "cell_type": "code",
   "execution_count": 81,
   "id": "07c863db",
   "metadata": {},
   "outputs": [],
   "source": [
    "model.save(\"model.h5\")"
   ]
  }
 ],
 "metadata": {
  "kernelspec": {
   "display_name": "Python 3.9.7 ('base')",
   "language": "python",
   "name": "python3"
  },
  "language_info": {
   "codemirror_mode": {
    "name": "ipython",
    "version": 3
   },
   "file_extension": ".py",
   "mimetype": "text/x-python",
   "name": "python",
   "nbconvert_exporter": "python",
   "pygments_lexer": "ipython3",
   "version": "3.9.7"
  },
  "vscode": {
   "interpreter": {
    "hash": "49b533991c9f67ef50febbfc523ab8a5beaec9270c9e0da7b089f4cdaf973ee3"
   }
  }
 },
 "nbformat": 4,
 "nbformat_minor": 5
}
