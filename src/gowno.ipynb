{
 "cells": [
  {
   "cell_type": "code",
   "execution_count": 41,
   "id": "dada697f",
   "metadata": {},
   "outputs": [],
   "source": [
    "import tensorflow as tf\n",
    "import pandas as pd\n",
    "import matplotlib.pyplot as plt\n",
    "from tensorflow.keras.datasets import mnist\n",
    "from keras.preprocessing.image import ImageDataGenerator\n",
    "from keras.layers import Conv2D, MaxPool2D, Flatten, Dense, BatchNormalization, Dropout\n",
    "import numpy as np\n",
    "import random\n",
    "import cv2 as cv"
   ]
  },
  {
   "cell_type": "markdown",
   "id": "f335e7d5",
   "metadata": {},
   "source": [
    "## Training hyperparametrs"
   ]
  },
  {
   "cell_type": "code",
   "execution_count": null,
   "id": "f04784cd",
   "metadata": {},
   "outputs": [],
   "source": [
    "epochs = 100\n",
    "batch_size = 32"
   ]
  },
  {
   "cell_type": "markdown",
   "id": "cdaac403",
   "metadata": {},
   "source": [
    "## Prepare data"
   ]
  },
  {
   "cell_type": "code",
   "execution_count": 42,
   "id": "6553d645",
   "metadata": {},
   "outputs": [],
   "source": [
    "train_dir = \"../training_data/\"\n",
    "test_dir = \"../testing_data/\""
   ]
  },
  {
   "cell_type": "code",
   "execution_count": 43,
   "id": "a28cb441",
   "metadata": {},
   "outputs": [
    {
     "name": "stdout",
     "output_type": "stream",
     "text": [
      "Found 7702 images belonging to 9 classes.\n",
      "Found 857 images belonging to 9 classes.\n"
     ]
    }
   ],
   "source": [
    "# Set the seed\n",
    "tf.random.set_seed(42)\n",
    "\n",
    "# Preprocess data (get all of the pixel values between 1 and 0, also called scaling/normalization)\n",
    "train_datagen = ImageDataGenerator(rescale=1./255)\n",
    "valid_datagen = ImageDataGenerator(rescale=1./255)\n",
    "\n",
    "# Import data from directories and turn it into batches\n",
    "train_data = train_datagen.flow_from_directory(train_dir,\n",
    "                                               target_size=(28,28),\n",
    "                                               color_mode=\"grayscale\",\n",
    "                                               class_mode=\"categorical\",\n",
    "                                               batch_size=batch_size, # number of images to process at a time \n",
    "                                               seed=42)\n",
    "\n",
    "valid_data = valid_datagen.flow_from_directory(test_dir,\n",
    "                                               target_size=(28,28),\n",
    "                                               color_mode=\"grayscale\",\n",
    "                                               class_mode=\"categorical\",\n",
    "                                               batch_size=batch_size,\n",
    "                                               seed=42)"
   ]
  },
  {
   "cell_type": "markdown",
   "id": "da2e19ec",
   "metadata": {},
   "source": [
    "## Define the model"
   ]
  },
  {
   "cell_type": "code",
   "execution_count": 44,
   "id": "687078c0",
   "metadata": {},
   "outputs": [],
   "source": [
    "model = tf.keras.models.Sequential()\n",
    "model.add(Conv2D(32, kernel_size=(3, 3),\n",
    "                 activation='relu',\n",
    "                 input_shape=(28,28,1))),\n",
    "model.add(Conv2D(32, (3, 3), activation='relu'))\n",
    "model.add(MaxPool2D(pool_size=(2, 2)))\n",
    "model.add(Conv2D(64, kernel_size=(3, 3), activation='relu')),\n",
    "model.add(Conv2D(64, (3, 3), activation='relu')),\n",
    "\n",
    "model.add(Flatten())\n",
    "model.add(Dense(128, activation='relu'))\n",
    "model.add(Dense(9, activation='softmax'))"
   ]
  },
  {
   "cell_type": "code",
   "execution_count": 45,
   "id": "300f70c1",
   "metadata": {},
   "outputs": [
    {
     "name": "stdout",
     "output_type": "stream",
     "text": [
      "Model: \"sequential_8\"\n",
      "_________________________________________________________________\n",
      " Layer (type)                Output Shape              Param #   \n",
      "=================================================================\n",
      " conv2d_32 (Conv2D)          (None, 26, 26, 32)        320       \n",
      "                                                                 \n",
      " conv2d_33 (Conv2D)          (None, 24, 24, 32)        9248      \n",
      "                                                                 \n",
      " max_pooling2d_8 (MaxPooling  (None, 12, 12, 32)       0         \n",
      " 2D)                                                             \n",
      "                                                                 \n",
      " conv2d_34 (Conv2D)          (None, 10, 10, 64)        18496     \n",
      "                                                                 \n",
      " conv2d_35 (Conv2D)          (None, 8, 8, 64)          36928     \n",
      "                                                                 \n",
      " flatten_8 (Flatten)         (None, 4096)              0         \n",
      "                                                                 \n",
      " dense_16 (Dense)            (None, 128)               524416    \n",
      "                                                                 \n",
      " dense_17 (Dense)            (None, 9)                 1161      \n",
      "                                                                 \n",
      "=================================================================\n",
      "Total params: 590,569\n",
      "Trainable params: 590,569\n",
      "Non-trainable params: 0\n",
      "_________________________________________________________________\n"
     ]
    }
   ],
   "source": [
    "model.summary()"
   ]
  },
  {
   "cell_type": "code",
   "execution_count": 46,
   "id": "a0a74106",
   "metadata": {
    "scrolled": true
   },
   "outputs": [
    {
     "name": "stdout",
     "output_type": "stream",
     "text": [
      "WARNING:tensorflow:`period` argument is deprecated. Please use `save_freq` to specify the frequency in number of batches seen.\n",
      "Epoch 1/40\n",
      "241/241 [==============================] - 4s 17ms/step - loss: 0.1261 - accuracy: 0.9664 - val_loss: 0.0259 - val_accuracy: 0.9953\n",
      "Epoch 2/40\n",
      "211/241 [=========================>....] - ETA: 0s - loss: 0.0225 - accuracy: 0.9953"
     ]
    },
    {
     "ename": "KeyboardInterrupt",
     "evalue": "",
     "output_type": "error",
     "traceback": [
      "\u001b[0;31m---------------------------------------------------------------------------\u001b[0m",
      "\u001b[0;31mKeyboardInterrupt\u001b[0m                         Traceback (most recent call last)",
      "\u001b[1;32m/home/karol/python_projekty/Sudoku-solver-opencv/src/gowno.ipynb Cell 8\u001b[0m in \u001b[0;36m<cell line: 10>\u001b[0;34m()\u001b[0m\n\u001b[1;32m      <a href='vscode-notebook-cell:/home/karol/python_projekty/Sudoku-solver-opencv/src/gowno.ipynb#ch0000009?line=3'>4</a>\u001b[0m callbacks_list \u001b[39m=\u001b[39m [checkpoint]\n\u001b[1;32m      <a href='vscode-notebook-cell:/home/karol/python_projekty/Sudoku-solver-opencv/src/gowno.ipynb#ch0000009?line=5'>6</a>\u001b[0m model\u001b[39m.\u001b[39mcompile(optimizer\u001b[39m=\u001b[39mtf\u001b[39m.\u001b[39mkeras\u001b[39m.\u001b[39moptimizers\u001b[39m.\u001b[39mAdam(),\n\u001b[1;32m      <a href='vscode-notebook-cell:/home/karol/python_projekty/Sudoku-solver-opencv/src/gowno.ipynb#ch0000009?line=6'>7</a>\u001b[0m               loss\u001b[39m=\u001b[39m\u001b[39m\"\u001b[39m\u001b[39mcategorical_crossentropy\u001b[39m\u001b[39m\"\u001b[39m,\n\u001b[1;32m      <a href='vscode-notebook-cell:/home/karol/python_projekty/Sudoku-solver-opencv/src/gowno.ipynb#ch0000009?line=7'>8</a>\u001b[0m               metrics\u001b[39m=\u001b[39m[\u001b[39m'\u001b[39m\u001b[39maccuracy\u001b[39m\u001b[39m'\u001b[39m])\n\u001b[0;32m---> <a href='vscode-notebook-cell:/home/karol/python_projekty/Sudoku-solver-opencv/src/gowno.ipynb#ch0000009?line=9'>10</a>\u001b[0m history \u001b[39m=\u001b[39m model\u001b[39m.\u001b[39;49mfit(train_data, validation_data\u001b[39m=\u001b[39;49mvalid_data, steps_per_epoch\u001b[39m=\u001b[39;49m\u001b[39mlen\u001b[39;49m(train_data), epochs\u001b[39m=\u001b[39;49m\u001b[39m40\u001b[39;49m, validation_steps\u001b[39m=\u001b[39;49m\u001b[39mlen\u001b[39;49m(valid_data), callbacks\u001b[39m=\u001b[39;49mcallbacks_list)\n",
      "File \u001b[0;32m~/.local/lib/python3.9/site-packages/keras/utils/traceback_utils.py:64\u001b[0m, in \u001b[0;36mfilter_traceback.<locals>.error_handler\u001b[0;34m(*args, **kwargs)\u001b[0m\n\u001b[1;32m     62\u001b[0m filtered_tb \u001b[39m=\u001b[39m \u001b[39mNone\u001b[39;00m\n\u001b[1;32m     63\u001b[0m \u001b[39mtry\u001b[39;00m:\n\u001b[0;32m---> 64\u001b[0m   \u001b[39mreturn\u001b[39;00m fn(\u001b[39m*\u001b[39;49margs, \u001b[39m*\u001b[39;49m\u001b[39m*\u001b[39;49mkwargs)\n\u001b[1;32m     65\u001b[0m \u001b[39mexcept\u001b[39;00m \u001b[39mException\u001b[39;00m \u001b[39mas\u001b[39;00m e:  \u001b[39m# pylint: disable=broad-except\u001b[39;00m\n\u001b[1;32m     66\u001b[0m   filtered_tb \u001b[39m=\u001b[39m _process_traceback_frames(e\u001b[39m.\u001b[39m__traceback__)\n",
      "File \u001b[0;32m~/.local/lib/python3.9/site-packages/keras/engine/training.py:1384\u001b[0m, in \u001b[0;36mModel.fit\u001b[0;34m(self, x, y, batch_size, epochs, verbose, callbacks, validation_split, validation_data, shuffle, class_weight, sample_weight, initial_epoch, steps_per_epoch, validation_steps, validation_batch_size, validation_freq, max_queue_size, workers, use_multiprocessing)\u001b[0m\n\u001b[1;32m   1377\u001b[0m \u001b[39mwith\u001b[39;00m tf\u001b[39m.\u001b[39mprofiler\u001b[39m.\u001b[39mexperimental\u001b[39m.\u001b[39mTrace(\n\u001b[1;32m   1378\u001b[0m     \u001b[39m'\u001b[39m\u001b[39mtrain\u001b[39m\u001b[39m'\u001b[39m,\n\u001b[1;32m   1379\u001b[0m     epoch_num\u001b[39m=\u001b[39mepoch,\n\u001b[1;32m   1380\u001b[0m     step_num\u001b[39m=\u001b[39mstep,\n\u001b[1;32m   1381\u001b[0m     batch_size\u001b[39m=\u001b[39mbatch_size,\n\u001b[1;32m   1382\u001b[0m     _r\u001b[39m=\u001b[39m\u001b[39m1\u001b[39m):\n\u001b[1;32m   1383\u001b[0m   callbacks\u001b[39m.\u001b[39mon_train_batch_begin(step)\n\u001b[0;32m-> 1384\u001b[0m   tmp_logs \u001b[39m=\u001b[39m \u001b[39mself\u001b[39;49m\u001b[39m.\u001b[39;49mtrain_function(iterator)\n\u001b[1;32m   1385\u001b[0m   \u001b[39mif\u001b[39;00m data_handler\u001b[39m.\u001b[39mshould_sync:\n\u001b[1;32m   1386\u001b[0m     context\u001b[39m.\u001b[39masync_wait()\n",
      "File \u001b[0;32m~/.local/lib/python3.9/site-packages/tensorflow/python/util/traceback_utils.py:150\u001b[0m, in \u001b[0;36mfilter_traceback.<locals>.error_handler\u001b[0;34m(*args, **kwargs)\u001b[0m\n\u001b[1;32m    148\u001b[0m filtered_tb \u001b[39m=\u001b[39m \u001b[39mNone\u001b[39;00m\n\u001b[1;32m    149\u001b[0m \u001b[39mtry\u001b[39;00m:\n\u001b[0;32m--> 150\u001b[0m   \u001b[39mreturn\u001b[39;00m fn(\u001b[39m*\u001b[39;49margs, \u001b[39m*\u001b[39;49m\u001b[39m*\u001b[39;49mkwargs)\n\u001b[1;32m    151\u001b[0m \u001b[39mexcept\u001b[39;00m \u001b[39mException\u001b[39;00m \u001b[39mas\u001b[39;00m e:\n\u001b[1;32m    152\u001b[0m   filtered_tb \u001b[39m=\u001b[39m _process_traceback_frames(e\u001b[39m.\u001b[39m__traceback__)\n",
      "File \u001b[0;32m~/.local/lib/python3.9/site-packages/tensorflow/python/eager/def_function.py:915\u001b[0m, in \u001b[0;36mFunction.__call__\u001b[0;34m(self, *args, **kwds)\u001b[0m\n\u001b[1;32m    912\u001b[0m compiler \u001b[39m=\u001b[39m \u001b[39m\"\u001b[39m\u001b[39mxla\u001b[39m\u001b[39m\"\u001b[39m \u001b[39mif\u001b[39;00m \u001b[39mself\u001b[39m\u001b[39m.\u001b[39m_jit_compile \u001b[39melse\u001b[39;00m \u001b[39m\"\u001b[39m\u001b[39mnonXla\u001b[39m\u001b[39m\"\u001b[39m\n\u001b[1;32m    914\u001b[0m \u001b[39mwith\u001b[39;00m OptionalXlaContext(\u001b[39mself\u001b[39m\u001b[39m.\u001b[39m_jit_compile):\n\u001b[0;32m--> 915\u001b[0m   result \u001b[39m=\u001b[39m \u001b[39mself\u001b[39;49m\u001b[39m.\u001b[39;49m_call(\u001b[39m*\u001b[39;49margs, \u001b[39m*\u001b[39;49m\u001b[39m*\u001b[39;49mkwds)\n\u001b[1;32m    917\u001b[0m new_tracing_count \u001b[39m=\u001b[39m \u001b[39mself\u001b[39m\u001b[39m.\u001b[39mexperimental_get_tracing_count()\n\u001b[1;32m    918\u001b[0m without_tracing \u001b[39m=\u001b[39m (tracing_count \u001b[39m==\u001b[39m new_tracing_count)\n",
      "File \u001b[0;32m~/.local/lib/python3.9/site-packages/tensorflow/python/eager/def_function.py:947\u001b[0m, in \u001b[0;36mFunction._call\u001b[0;34m(self, *args, **kwds)\u001b[0m\n\u001b[1;32m    944\u001b[0m   \u001b[39mself\u001b[39m\u001b[39m.\u001b[39m_lock\u001b[39m.\u001b[39mrelease()\n\u001b[1;32m    945\u001b[0m   \u001b[39m# In this case we have created variables on the first call, so we run the\u001b[39;00m\n\u001b[1;32m    946\u001b[0m   \u001b[39m# defunned version which is guaranteed to never create variables.\u001b[39;00m\n\u001b[0;32m--> 947\u001b[0m   \u001b[39mreturn\u001b[39;00m \u001b[39mself\u001b[39;49m\u001b[39m.\u001b[39;49m_stateless_fn(\u001b[39m*\u001b[39;49margs, \u001b[39m*\u001b[39;49m\u001b[39m*\u001b[39;49mkwds)  \u001b[39m# pylint: disable=not-callable\u001b[39;00m\n\u001b[1;32m    948\u001b[0m \u001b[39melif\u001b[39;00m \u001b[39mself\u001b[39m\u001b[39m.\u001b[39m_stateful_fn \u001b[39mis\u001b[39;00m \u001b[39mnot\u001b[39;00m \u001b[39mNone\u001b[39;00m:\n\u001b[1;32m    949\u001b[0m   \u001b[39m# Release the lock early so that multiple threads can perform the call\u001b[39;00m\n\u001b[1;32m    950\u001b[0m   \u001b[39m# in parallel.\u001b[39;00m\n\u001b[1;32m    951\u001b[0m   \u001b[39mself\u001b[39m\u001b[39m.\u001b[39m_lock\u001b[39m.\u001b[39mrelease()\n",
      "File \u001b[0;32m~/.local/lib/python3.9/site-packages/tensorflow/python/eager/function.py:2956\u001b[0m, in \u001b[0;36mFunction.__call__\u001b[0;34m(self, *args, **kwargs)\u001b[0m\n\u001b[1;32m   2953\u001b[0m \u001b[39mwith\u001b[39;00m \u001b[39mself\u001b[39m\u001b[39m.\u001b[39m_lock:\n\u001b[1;32m   2954\u001b[0m   (graph_function,\n\u001b[1;32m   2955\u001b[0m    filtered_flat_args) \u001b[39m=\u001b[39m \u001b[39mself\u001b[39m\u001b[39m.\u001b[39m_maybe_define_function(args, kwargs)\n\u001b[0;32m-> 2956\u001b[0m \u001b[39mreturn\u001b[39;00m graph_function\u001b[39m.\u001b[39;49m_call_flat(\n\u001b[1;32m   2957\u001b[0m     filtered_flat_args, captured_inputs\u001b[39m=\u001b[39;49mgraph_function\u001b[39m.\u001b[39;49mcaptured_inputs)\n",
      "File \u001b[0;32m~/.local/lib/python3.9/site-packages/tensorflow/python/eager/function.py:1853\u001b[0m, in \u001b[0;36mConcreteFunction._call_flat\u001b[0;34m(self, args, captured_inputs, cancellation_manager)\u001b[0m\n\u001b[1;32m   1849\u001b[0m possible_gradient_type \u001b[39m=\u001b[39m gradients_util\u001b[39m.\u001b[39mPossibleTapeGradientTypes(args)\n\u001b[1;32m   1850\u001b[0m \u001b[39mif\u001b[39;00m (possible_gradient_type \u001b[39m==\u001b[39m gradients_util\u001b[39m.\u001b[39mPOSSIBLE_GRADIENT_TYPES_NONE\n\u001b[1;32m   1851\u001b[0m     \u001b[39mand\u001b[39;00m executing_eagerly):\n\u001b[1;32m   1852\u001b[0m   \u001b[39m# No tape is watching; skip to running the function.\u001b[39;00m\n\u001b[0;32m-> 1853\u001b[0m   \u001b[39mreturn\u001b[39;00m \u001b[39mself\u001b[39m\u001b[39m.\u001b[39m_build_call_outputs(\u001b[39mself\u001b[39;49m\u001b[39m.\u001b[39;49m_inference_function\u001b[39m.\u001b[39;49mcall(\n\u001b[1;32m   1854\u001b[0m       ctx, args, cancellation_manager\u001b[39m=\u001b[39;49mcancellation_manager))\n\u001b[1;32m   1855\u001b[0m forward_backward \u001b[39m=\u001b[39m \u001b[39mself\u001b[39m\u001b[39m.\u001b[39m_select_forward_and_backward_functions(\n\u001b[1;32m   1856\u001b[0m     args,\n\u001b[1;32m   1857\u001b[0m     possible_gradient_type,\n\u001b[1;32m   1858\u001b[0m     executing_eagerly)\n\u001b[1;32m   1859\u001b[0m forward_function, args_with_tangents \u001b[39m=\u001b[39m forward_backward\u001b[39m.\u001b[39mforward()\n",
      "File \u001b[0;32m~/.local/lib/python3.9/site-packages/tensorflow/python/eager/function.py:499\u001b[0m, in \u001b[0;36m_EagerDefinedFunction.call\u001b[0;34m(self, ctx, args, cancellation_manager)\u001b[0m\n\u001b[1;32m    497\u001b[0m \u001b[39mwith\u001b[39;00m _InterpolateFunctionError(\u001b[39mself\u001b[39m):\n\u001b[1;32m    498\u001b[0m   \u001b[39mif\u001b[39;00m cancellation_manager \u001b[39mis\u001b[39;00m \u001b[39mNone\u001b[39;00m:\n\u001b[0;32m--> 499\u001b[0m     outputs \u001b[39m=\u001b[39m execute\u001b[39m.\u001b[39;49mexecute(\n\u001b[1;32m    500\u001b[0m         \u001b[39mstr\u001b[39;49m(\u001b[39mself\u001b[39;49m\u001b[39m.\u001b[39;49msignature\u001b[39m.\u001b[39;49mname),\n\u001b[1;32m    501\u001b[0m         num_outputs\u001b[39m=\u001b[39;49m\u001b[39mself\u001b[39;49m\u001b[39m.\u001b[39;49m_num_outputs,\n\u001b[1;32m    502\u001b[0m         inputs\u001b[39m=\u001b[39;49margs,\n\u001b[1;32m    503\u001b[0m         attrs\u001b[39m=\u001b[39;49mattrs,\n\u001b[1;32m    504\u001b[0m         ctx\u001b[39m=\u001b[39;49mctx)\n\u001b[1;32m    505\u001b[0m   \u001b[39melse\u001b[39;00m:\n\u001b[1;32m    506\u001b[0m     outputs \u001b[39m=\u001b[39m execute\u001b[39m.\u001b[39mexecute_with_cancellation(\n\u001b[1;32m    507\u001b[0m         \u001b[39mstr\u001b[39m(\u001b[39mself\u001b[39m\u001b[39m.\u001b[39msignature\u001b[39m.\u001b[39mname),\n\u001b[1;32m    508\u001b[0m         num_outputs\u001b[39m=\u001b[39m\u001b[39mself\u001b[39m\u001b[39m.\u001b[39m_num_outputs,\n\u001b[0;32m   (...)\u001b[0m\n\u001b[1;32m    511\u001b[0m         ctx\u001b[39m=\u001b[39mctx,\n\u001b[1;32m    512\u001b[0m         cancellation_manager\u001b[39m=\u001b[39mcancellation_manager)\n",
      "File \u001b[0;32m~/.local/lib/python3.9/site-packages/tensorflow/python/eager/execute.py:54\u001b[0m, in \u001b[0;36mquick_execute\u001b[0;34m(op_name, num_outputs, inputs, attrs, ctx, name)\u001b[0m\n\u001b[1;32m     52\u001b[0m \u001b[39mtry\u001b[39;00m:\n\u001b[1;32m     53\u001b[0m   ctx\u001b[39m.\u001b[39mensure_initialized()\n\u001b[0;32m---> 54\u001b[0m   tensors \u001b[39m=\u001b[39m pywrap_tfe\u001b[39m.\u001b[39;49mTFE_Py_Execute(ctx\u001b[39m.\u001b[39;49m_handle, device_name, op_name,\n\u001b[1;32m     55\u001b[0m                                       inputs, attrs, num_outputs)\n\u001b[1;32m     56\u001b[0m \u001b[39mexcept\u001b[39;00m core\u001b[39m.\u001b[39m_NotOkStatusException \u001b[39mas\u001b[39;00m e:\n\u001b[1;32m     57\u001b[0m   \u001b[39mif\u001b[39;00m name \u001b[39mis\u001b[39;00m \u001b[39mnot\u001b[39;00m \u001b[39mNone\u001b[39;00m:\n",
      "\u001b[0;31mKeyboardInterrupt\u001b[0m: "
     ]
    }
   ],
   "source": [
    "#save model after evry epoch\n",
    "checkpoint=tf.keras.callbacks.ModelCheckpoint(\"models/model-{epoch:02d}-{val_accuracy:.2f}.h5\", monitor='val_loss', verbose=0, save_best_only=False, save_weights_only=False, mode='auto', period=1)\n",
    "\n",
    "callbacks_list = [checkpoint]\n",
    "\n",
    "model.compile(optimizer=tf.keras.optimizers.Adam(),\n",
    "              loss=\"categorical_crossentropy\",\n",
    "              metrics=['accuracy'])\n",
    "\n",
    "history = model.fit(train_data, validation_data=valid_data, steps_per_epoch=len(train_data), epochs=100, validation_steps=len(valid_data), callbacks=callbacks_list)"
   ]
  },
  {
   "cell_type": "code",
   "execution_count": 33,
   "id": "1dfd040d",
   "metadata": {},
   "outputs": [
    {
     "data": {
      "text/plain": [
       "Text(0.5, 0, 'epochs')"
      ]
     },
     "execution_count": 33,
     "metadata": {},
     "output_type": "execute_result"
    },
    {
     "data": {
      "image/png": "[encoded data removed]",
      "text/plain": [
       "<Figure size 432x288 with 1 Axes>"
      ]
     },
     "metadata": {
      "needs_background": "light"
     },
     "output_type": "display_data"
    }
   ],
   "source": [
    "acc = history.history['accuracy']\n",
    "val_acc = history.history['val_accuracy']\n",
    "\n",
    "loss = history.history['loss']\n",
    "val_loss = history.history['val_loss']\n",
    "\n",
    "epochs_range = range(epochs)\n",
    "\n",
    "plt.figure(figsize=(8, 8))\n",
    "plt.subplot(1, 2, 1)\n",
    "plt.plot(epochs_range, acc, label='Training Accuracy')\n",
    "plt.plot(epochs_range, val_acc, label='Validation Accuracy')\n",
    "plt.legend(loc='lower right')\n",
    "plt.title('Training and Validation Accuracy')\n",
    "\n",
    "plt.subplot(1, 2, 2)\n",
    "plt.plot(epochs_range, loss, label='Training Loss')\n",
    "plt.plot(epochs_range, val_loss, label='Validation Loss')\n",
    "plt.legend(loc='upper right')\n",
    "plt.title('Training and Validation Loss')\n",
    "plt.show()"
   ]
  },
  {
   "cell_type": "code",
   "execution_count": 309,
   "id": "33b53b79",
   "metadata": {},
   "outputs": [
    {
     "name": "stdout",
     "output_type": "stream",
     "text": [
      "313/313 [==============================] - 2s 7ms/step - loss: 0.0285 - accuracy: 0.9917\n"
     ]
    },
    {
     "data": {
      "text/plain": [
       "[0.028516730293631554, 0.9916999936103821]"
      ]
     },
     "execution_count": 309,
     "metadata": {},
     "output_type": "execute_result"
    }
   ],
   "source": [
    "model.evaluate(X_test, y_test)"
   ]
  },
  {
   "cell_type": "code",
   "execution_count": 153,
   "id": "07c863db",
   "metadata": {},
   "outputs": [],
   "source": [
    "model.save(\"model.h5\")"
   ]
  },
  {
   "cell_type": "code",
   "execution_count": 27,
   "id": "7953dc3a",
   "metadata": {},
   "outputs": [],
   "source": [
    "from scipy import ndimage as ndi\n",
    "\n",
    "def center_of_mass(img):\n",
    "    cy, cx, _ = ndi.center_of_mass(img)\n",
    "    img = img[int(cy)-20:int(cy)+20, int(cx)-20:int(cx)+20  ]\n",
    "    return img\n",
    "\n",
    "\n",
    "def prepare_box_test(img):\n",
    "    img = np.array(img)\n",
    "    img = img[5:]\n",
    "    img = img[:-5]\n",
    "    img = np.delete(img, range(0, 5), 1)\n",
    "    img = np.delete(img, range(-5, 0), 1)\n",
    "\n",
    "    # Top\n",
    "    while img[0].mean() <= 230:\n",
    "        img = img[1:]\n",
    "\n",
    "    # Down\n",
    "    while img[-1].mean() <= 230:\n",
    "        img = img[:-1]\n",
    "\n",
    "    # Left\n",
    "    while img[:, 0].mean() <= 230:\n",
    "        img = np.delete(img, 0, 1)\n",
    "\n",
    "    # Right\n",
    "    while img[:, -1].mean() <= 230:\n",
    "        img = np.delete(img, -1, 1)\n",
    "\n",
    "    mean = img.mean()\n",
    "\n",
    "    if mean > 250:\n",
    "        return cv.resize(img, (28, 28))\n",
    "\n",
    "    cnts3 = img.copy()\n",
    "    contours2, hierarchy2 = cv.findContours(img, cv.RETR_TREE, cv.CHAIN_APPROX_SIMPLE)\n",
    "\n",
    "    all_areas = []\n",
    "\n",
    "    contours2 = sorted(contours2, key=cv.contourArea, reverse=True)\n",
    "    contours2 = contours2[1:]\n",
    "\n",
    "    for cnt in contours2:\n",
    "        area = cv.contourArea(cnt)\n",
    "        all_areas.append(area)\n",
    "\n",
    "    if len(all_areas) == 0:\n",
    "        return np.zeros((28, 28))\n",
    "\n",
    "    avg_cnt = sum(all_areas) / len(all_areas)\n",
    "\n",
    "    for cnt in contours2:\n",
    "        area = cv.contourArea(cnt)\n",
    "        if area < avg_cnt:\n",
    "            cv.drawContours(cnts3, [cnt], -1, (255, 255, 255), -1)\n",
    "\n",
    "    cnts3 = cnts3[5:]\n",
    "    cnts3 = cnts3[:-5]\n",
    "    cnts3 = np.delete(cnts3, range(0, 5), 1)\n",
    "    cnts3 = np.delete(cnts3, range(-5, 0), 1)\n",
    "    img = cnts3\n",
    "\n",
    "    img = center_of_mass(img)\n",
    "    #img = cv.bitwise_not(img)\n",
    "    #img = cv.resize(img, (28, 28))\n",
    "\n",
    "    return img"
   ]
  },
  {
   "cell_type": "code",
   "execution_count": 56,
   "id": "f961e6b4",
   "metadata": {},
   "outputs": [],
   "source": [
    "def cb(img):\n",
    "    img = np.array(img)\n",
    "    mean = img.mean()\n",
    "    non_empty_columns = np.where(img.min(axis=0)<mean)[0]\n",
    "    non_empty_rows = np.where(img.min(axis=1)<mean)[0]\n",
    "    box_w = max(non_empty_rows)+5 - min(non_empty_rows)-5\n",
    "    box_h = max(non_empty_columns) - min(non_empty_rows)\n",
    "    center = (min(non_empty_rows)+int(box_w/2), min(non_empty_columns)+int(box_h/2))   \n",
    "    bb = (center[0]-20, center[0]+20, center[1]-20, center[1]+20)\n",
    "    return bb\n",
    "\n",
    "def prepeare_img(img):\n",
    "    img = np.array(img)\n",
    "\n",
    "    # Top\n",
    "    while img[0].mean() <= 230:\n",
    "        img = img[1:]\n",
    "\n",
    "    # Down\n",
    "    while img[-1].mean() <= 230:\n",
    "        img = img[:-1]\n",
    "\n",
    "    #Left\n",
    "    while img[:,0].mean() <= 230:\n",
    "        img = np.delete(img, 0, 1)\n",
    "\n",
    "    #Right\n",
    "    while img[:, -1].mean() <= 230:\n",
    "        img = np.delete(img, -1, 1)\n",
    "\n",
    "    img = img[5:]\n",
    "    img = img[:-5]\n",
    "    img = np.delete(img, range(0,10), 1)\n",
    "    img = np.delete(img, range(-5, 0), 1)\n",
    "\n",
    "    # Top\n",
    "    while img[0].mean() <= 230:\n",
    "        img = img[1:]\n",
    "\n",
    "    # Down\n",
    "    while img[-1].mean() <= 230:\n",
    "        img = img[:-1]\n",
    "\n",
    "    #Left\n",
    "    while img[:,0].mean() <= 230:\n",
    "        img = np.delete(img, 0, 1)\n",
    "\n",
    "    #Right\n",
    "    while img[:, -1].mean() <= 230:\n",
    "        img = np.delete(img, -1, 1)\n",
    "\n",
    "    \n",
    "    img = img[5:]\n",
    "    img = img[:-5]\n",
    "    img = np.delete(img, range(0,5), 1)\n",
    "    img = np.delete(img, range(-5, 0), 1)\n",
    "\n",
    "    # Top\n",
    "    while img[0].mean() <= 230:\n",
    "        img = img[1:]\n",
    "\n",
    "    # Down\n",
    "    while img[-1].mean() <= 230:\n",
    "        img = img[:-1]\n",
    "\n",
    "    #Left\n",
    "    while img[:,0].mean() <= 230:\n",
    "        img = np.delete(img, 0, 1)\n",
    "\n",
    "    #Right\n",
    "    while img[:, -1].mean() <= 230:\n",
    "        img = np.delete(img, -1, 1)\n",
    "\n",
    "\n",
    "    cnts3 = img.copy()\n",
    "    contours2, hierarchy2 = cv.findContours(img, cv.RETR_TREE, cv.CHAIN_APPROX_SIMPLE)\n",
    "\n",
    "    all_areas= []\n",
    "\n",
    "    contours2 = sorted(contours2, key=cv.contourArea, reverse=True)\n",
    "    contours2 = contours2[1:]\n",
    "\n",
    "    for cnt in contours2:\n",
    "        area= cv.contourArea(cnt)\n",
    "        all_areas.append(area)\n",
    "    \n",
    "    avg_cnt = sum(all_areas)/len(all_areas)\n",
    "\n",
    "    for cnt in contours2:\n",
    "        area = cv.contourArea(cnt)\n",
    "        if area < avg_cnt:\n",
    "            cv.drawContours(cnts3, [cnt], -1, (255,255,255), -1)\n",
    "\n",
    "    cnts3 = cnts3[5:]\n",
    "    cnts3 = cnts3[:-5]\n",
    "    cnts3 = np.delete(cnts3, range(0,5), 1)\n",
    "    cnts3 = np.delete(cnts3, range(-5, 0), 1)\n",
    "\n",
    "    return cnts3\n",
    "\n",
    "\n",
    "def pred_and_plot(img_path, model_path):\n",
    "    model = tf.keras.models.load_model(model_path)\n",
    "    fig = plt.figure(figsize=(10, 7))\n",
    "    img = tf.io.read_file(img_path)\n",
    "    img = tf.image.decode_image(img, channels=1)\n",
    "\n",
    "    fig.add_subplot(1, 4, 1)\n",
    "    plt.imshow(img)\n",
    "    plt.axis(False)\n",
    "\n",
    "    img2 = img\n",
    "    img1 = prepeare_img(img)\n",
    "    img2 = img1\n",
    "    bb = cb(img1)\n",
    "\n",
    "    fig.add_subplot(1, 4, 2)\n",
    "    plt.imshow(img1)\n",
    "    plt.plot([bb[2], bb[3], bb[3], bb[2], bb[2]],\n",
    "            [bb[0], bb[0],bb[1], bb[1], bb[0]],\n",
    "            \"r-\")\n",
    "    plt.axis(False)\n",
    "\n",
    "    img1 = img1[bb[0]:bb[1], bb[2]:bb[3]] \n",
    "    img1 = cv.bitwise_not(img1)\n",
    "    img1 = cv.resize(img1, (28,28))\n",
    "\n",
    "    img2 = prepare_box_test(img2)\n",
    "    img2 = cv.bitwise_not(img2)\n",
    "    img2 = cv.resize(img2, (28,28))\n",
    "    \n",
    "    fig.add_subplot(1, 4, 3)\n",
    "    plt.imshow(img1)\n",
    "    plt.axis(False)\n",
    "    img1 = tf.expand_dims(img1, 0)\n",
    "    plt.title(np.argmax(model.predict(img1)))\n",
    "\n",
    "    fig.add_subplot(1, 4, 4)\n",
    "    plt.imshow(img2)\n",
    "    plt.axis(False)\n",
    "    img2 = tf.expand_dims(img2, 0)\n",
    "    plt.title(np.argmax(model.predict(img2)))\n",
    "\n",
    "    plt.axis(False)\n",
    "    plt.colorbar;\n",
    "\n",
    "\n"
   ]
  },
  {
   "cell_type": "code",
   "execution_count": 74,
   "id": "13791bd8",
   "metadata": {},
   "outputs": [
    {
     "name": "stdout",
     "output_type": "stream",
     "text": [
      "(43, 36)\n"
     ]
    },
    {
     "data": {
      "image/png": "[encoded data removed]",
      "text/plain": [
       "<Figure size 720x504 with 4 Axes>"
      ]
     },
     "metadata": {
      "needs_background": "light"
     },
     "output_type": "display_data"
    }
   ],
   "source": [
    "pred_and_plot(\"box_pre74.png\", \"models/model-08-0.99.h5\")"
   ]
  }
 ],
 "metadata": {
  "kernelspec": {
   "display_name": "Python 3.9.7 ('base')",
   "language": "python",
   "name": "python3"
  },
  "language_info": {
   "codemirror_mode": {
    "name": "ipython",
    "version": 3
   },
   "file_extension": ".py",
   "mimetype": "text/x-python",
   "name": "python",
   "nbconvert_exporter": "python",
   "pygments_lexer": "ipython3",
   "version": "3.9.7"
  },
  "vscode": {
   "interpreter": {
    "hash": "49b533991c9f67ef50febbfc523ab8a5beaec9270c9e0da7b089f4cdaf973ee3"
   }
  }
 },
 "nbformat": 4,
 "nbformat_minor": 5
}
